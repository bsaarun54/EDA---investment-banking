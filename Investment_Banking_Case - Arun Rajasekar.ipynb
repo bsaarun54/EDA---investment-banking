{
 "cells": [
  {
   "cell_type": "code",
   "execution_count": 1,
   "metadata": {},
   "outputs": [
    {
     "data": {
      "text/html": [
       "<div>\n",
       "<style>\n",
       "    .dataframe thead tr:only-child th {\n",
       "        text-align: right;\n",
       "    }\n",
       "\n",
       "    .dataframe thead th {\n",
       "        text-align: left;\n",
       "    }\n",
       "\n",
       "    .dataframe tbody tr th {\n",
       "        vertical-align: top;\n",
       "    }\n",
       "</style>\n",
       "<table border=\"1\" class=\"dataframe\">\n",
       "  <thead>\n",
       "    <tr style=\"text-align: right;\">\n",
       "      <th></th>\n",
       "      <th>permalink</th>\n",
       "      <th>name</th>\n",
       "      <th>homepage_url</th>\n",
       "      <th>category_list</th>\n",
       "      <th>status</th>\n",
       "      <th>country_code</th>\n",
       "      <th>state_code</th>\n",
       "      <th>region</th>\n",
       "      <th>city</th>\n",
       "      <th>founded_at</th>\n",
       "    </tr>\n",
       "  </thead>\n",
       "  <tbody>\n",
       "    <tr>\n",
       "      <th>0</th>\n",
       "      <td>/Organization/-Fame</td>\n",
       "      <td>#fame</td>\n",
       "      <td>http://livfame.com</td>\n",
       "      <td>Media</td>\n",
       "      <td>operating</td>\n",
       "      <td>IND</td>\n",
       "      <td>16</td>\n",
       "      <td>Mumbai</td>\n",
       "      <td>Mumbai</td>\n",
       "      <td>NaN</td>\n",
       "    </tr>\n",
       "    <tr>\n",
       "      <th>1</th>\n",
       "      <td>/Organization/-Qounter</td>\n",
       "      <td>:Qounter</td>\n",
       "      <td>http://www.qounter.com</td>\n",
       "      <td>Application Platforms|Real Time|Social Network...</td>\n",
       "      <td>operating</td>\n",
       "      <td>USA</td>\n",
       "      <td>DE</td>\n",
       "      <td>DE - Other</td>\n",
       "      <td>Delaware City</td>\n",
       "      <td>04-09-2014</td>\n",
       "    </tr>\n",
       "    <tr>\n",
       "      <th>2</th>\n",
       "      <td>/Organization/-The-One-Of-Them-Inc-</td>\n",
       "      <td>(THE) ONE of THEM,Inc.</td>\n",
       "      <td>http://oneofthem.jp</td>\n",
       "      <td>Apps|Games|Mobile</td>\n",
       "      <td>operating</td>\n",
       "      <td>NaN</td>\n",
       "      <td>NaN</td>\n",
       "      <td>NaN</td>\n",
       "      <td>NaN</td>\n",
       "      <td>NaN</td>\n",
       "    </tr>\n",
       "    <tr>\n",
       "      <th>3</th>\n",
       "      <td>/Organization/0-6-Com</td>\n",
       "      <td>0-6.com</td>\n",
       "      <td>http://www.0-6.com</td>\n",
       "      <td>Curated Web</td>\n",
       "      <td>operating</td>\n",
       "      <td>CHN</td>\n",
       "      <td>22</td>\n",
       "      <td>Beijing</td>\n",
       "      <td>Beijing</td>\n",
       "      <td>01-01-2007</td>\n",
       "    </tr>\n",
       "    <tr>\n",
       "      <th>4</th>\n",
       "      <td>/Organization/004-Technologies</td>\n",
       "      <td>004 Technologies</td>\n",
       "      <td>http://004gmbh.de/en/004-interact</td>\n",
       "      <td>Software</td>\n",
       "      <td>operating</td>\n",
       "      <td>USA</td>\n",
       "      <td>IL</td>\n",
       "      <td>Springfield, Illinois</td>\n",
       "      <td>Champaign</td>\n",
       "      <td>01-01-2010</td>\n",
       "    </tr>\n",
       "  </tbody>\n",
       "</table>\n",
       "</div>"
      ],
      "text/plain": [
       "                             permalink                    name  \\\n",
       "0                  /Organization/-Fame                   #fame   \n",
       "1               /Organization/-Qounter                :Qounter   \n",
       "2  /Organization/-The-One-Of-Them-Inc-  (THE) ONE of THEM,Inc.   \n",
       "3                /Organization/0-6-Com                 0-6.com   \n",
       "4       /Organization/004-Technologies        004 Technologies   \n",
       "\n",
       "                        homepage_url  \\\n",
       "0                 http://livfame.com   \n",
       "1             http://www.qounter.com   \n",
       "2                http://oneofthem.jp   \n",
       "3                 http://www.0-6.com   \n",
       "4  http://004gmbh.de/en/004-interact   \n",
       "\n",
       "                                       category_list     status country_code  \\\n",
       "0                                              Media  operating          IND   \n",
       "1  Application Platforms|Real Time|Social Network...  operating          USA   \n",
       "2                                  Apps|Games|Mobile  operating          NaN   \n",
       "3                                        Curated Web  operating          CHN   \n",
       "4                                           Software  operating          USA   \n",
       "\n",
       "  state_code                 region           city  founded_at  \n",
       "0         16                 Mumbai         Mumbai         NaN  \n",
       "1         DE             DE - Other  Delaware City  04-09-2014  \n",
       "2        NaN                    NaN            NaN         NaN  \n",
       "3         22                Beijing        Beijing  01-01-2007  \n",
       "4         IL  Springfield, Illinois      Champaign  01-01-2010  "
      ]
     },
     "execution_count": 1,
     "metadata": {},
     "output_type": "execute_result"
    }
   ],
   "source": [
    "# import all necessary libraries\n",
    "\n",
    "import numpy as np\n",
    "import pandas as pd\n",
    "import matplotlib.pyplot as plt\n",
    "import seaborn as sns\n",
    "import PyPDF2 as pdf\n",
    "\n",
    "#reading the input dataset companies.txt with separator as \"\\t\" with encoding ISO-8859-1\n",
    "companies = pd.read_csv(\"companies.txt\", sep = \"\\t\", encoding = \"ISO-8859-1\")\n",
    "companies.head()"
   ]
  },
  {
   "cell_type": "code",
   "execution_count": 2,
   "metadata": {},
   "outputs": [
    {
     "data": {
      "text/html": [
       "<div>\n",
       "<style>\n",
       "    .dataframe thead tr:only-child th {\n",
       "        text-align: right;\n",
       "    }\n",
       "\n",
       "    .dataframe thead th {\n",
       "        text-align: left;\n",
       "    }\n",
       "\n",
       "    .dataframe tbody tr th {\n",
       "        vertical-align: top;\n",
       "    }\n",
       "</style>\n",
       "<table border=\"1\" class=\"dataframe\">\n",
       "  <thead>\n",
       "    <tr style=\"text-align: right;\">\n",
       "      <th></th>\n",
       "      <th>company_permalink</th>\n",
       "      <th>funding_round_permalink</th>\n",
       "      <th>funding_round_type</th>\n",
       "      <th>funding_round_code</th>\n",
       "      <th>funded_at</th>\n",
       "      <th>raised_amount_usd</th>\n",
       "    </tr>\n",
       "  </thead>\n",
       "  <tbody>\n",
       "    <tr>\n",
       "      <th>0</th>\n",
       "      <td>/organization/-fame</td>\n",
       "      <td>/funding-round/9a01d05418af9f794eebff7ace91f638</td>\n",
       "      <td>venture</td>\n",
       "      <td>B</td>\n",
       "      <td>05-01-2015</td>\n",
       "      <td>10000000.0</td>\n",
       "    </tr>\n",
       "    <tr>\n",
       "      <th>1</th>\n",
       "      <td>/ORGANIZATION/-QOUNTER</td>\n",
       "      <td>/funding-round/22dacff496eb7acb2b901dec1dfe5633</td>\n",
       "      <td>venture</td>\n",
       "      <td>A</td>\n",
       "      <td>14-10-2014</td>\n",
       "      <td>NaN</td>\n",
       "    </tr>\n",
       "    <tr>\n",
       "      <th>2</th>\n",
       "      <td>/organization/-qounter</td>\n",
       "      <td>/funding-round/b44fbb94153f6cdef13083530bb48030</td>\n",
       "      <td>seed</td>\n",
       "      <td>NaN</td>\n",
       "      <td>01-03-2014</td>\n",
       "      <td>700000.0</td>\n",
       "    </tr>\n",
       "    <tr>\n",
       "      <th>3</th>\n",
       "      <td>/ORGANIZATION/-THE-ONE-OF-THEM-INC-</td>\n",
       "      <td>/funding-round/650b8f704416801069bb178a1418776b</td>\n",
       "      <td>venture</td>\n",
       "      <td>B</td>\n",
       "      <td>30-01-2014</td>\n",
       "      <td>3406878.0</td>\n",
       "    </tr>\n",
       "    <tr>\n",
       "      <th>4</th>\n",
       "      <td>/organization/0-6-com</td>\n",
       "      <td>/funding-round/5727accaeaa57461bd22a9bdd945382d</td>\n",
       "      <td>venture</td>\n",
       "      <td>A</td>\n",
       "      <td>19-03-2008</td>\n",
       "      <td>2000000.0</td>\n",
       "    </tr>\n",
       "  </tbody>\n",
       "</table>\n",
       "</div>"
      ],
      "text/plain": [
       "                     company_permalink  \\\n",
       "0                  /organization/-fame   \n",
       "1               /ORGANIZATION/-QOUNTER   \n",
       "2               /organization/-qounter   \n",
       "3  /ORGANIZATION/-THE-ONE-OF-THEM-INC-   \n",
       "4                /organization/0-6-com   \n",
       "\n",
       "                           funding_round_permalink funding_round_type  \\\n",
       "0  /funding-round/9a01d05418af9f794eebff7ace91f638            venture   \n",
       "1  /funding-round/22dacff496eb7acb2b901dec1dfe5633            venture   \n",
       "2  /funding-round/b44fbb94153f6cdef13083530bb48030               seed   \n",
       "3  /funding-round/650b8f704416801069bb178a1418776b            venture   \n",
       "4  /funding-round/5727accaeaa57461bd22a9bdd945382d            venture   \n",
       "\n",
       "  funding_round_code   funded_at  raised_amount_usd  \n",
       "0                  B  05-01-2015         10000000.0  \n",
       "1                  A  14-10-2014                NaN  \n",
       "2                NaN  01-03-2014           700000.0  \n",
       "3                  B  30-01-2014          3406878.0  \n",
       "4                  A  19-03-2008          2000000.0  "
      ]
     },
     "execution_count": 2,
     "metadata": {},
     "output_type": "execute_result"
    }
   ],
   "source": [
    "# reading input from rounds2.csv with encoding\n",
    "rounds2 = pd.read_csv(\"rounds2.csv\", encoding = \"ISO-8859-1\")\n",
    "rounds2.head()"
   ]
  },
  {
   "cell_type": "code",
   "execution_count": 3,
   "metadata": {
    "collapsed": true
   },
   "outputs": [],
   "source": [
    "# as the columns 'permalink' and 'company_permalink' is not uniform in case, i convert the columns values \n",
    "# to uppercase then merge the dfs\n",
    "# created a function to convert a string to uppercase\n",
    "def link_to_upper_case(x):\n",
    "    return x.upper()\n",
    "companies['permalink'] = companies['permalink'].apply(link_to_upper_case)\n",
    "rounds2['company_permalink'] = rounds2['company_permalink'].apply(link_to_upper_case)"
   ]
  },
  {
   "cell_type": "code",
   "execution_count": 4,
   "metadata": {},
   "outputs": [
    {
     "name": "stdout",
     "output_type": "stream",
     "text": [
      "66368\n"
     ]
    }
   ],
   "source": [
    "#Checkpoint 1:\n",
    "#count of unique values in companies df\n",
    "print(len(companies.permalink.unique()))"
   ]
  },
  {
   "cell_type": "code",
   "execution_count": 5,
   "metadata": {},
   "outputs": [
    {
     "name": "stdout",
     "output_type": "stream",
     "text": [
      "66370\n"
     ]
    }
   ],
   "source": [
    "#Checkpoint 1:\n",
    "#count of unique values in rounds2 df\n",
    "print(len(rounds2.company_permalink.unique()))"
   ]
  },
  {
   "cell_type": "code",
   "execution_count": 6,
   "metadata": {},
   "outputs": [
    {
     "name": "stdout",
     "output_type": "stream",
     "text": [
      "{'/ORGANIZATION/WEICHE-TECH-Å\\x96\\x82È½¦Ç§\\x91Æ\\x8a\\x80', '/ORGANIZATION/MAGNET-TECH-Ç£\\x81Ç\\x9f³Ç§\\x91Æ\\x8a\\x80', '/ORGANIZATION/HUIZUCHE-COM-Æ\\x83\\xa0Ç§ŸÈ½¦', '/ORGANIZATION/ENERGYSTONE-GAMES-Ç\\x81ΜÇ\\x9f³Æ¸¸Æ\\x88\\x8f', '/ORGANIZATION/ZENGAME-Ç¦\\x85Æ¸¸Ç§\\x91Æ\\x8a\\x80', '/ORGANIZATION/E-CÃ\\x8aBICA', '/ORGANIZATION/TIPCAT-INTERACTIVE-Æ²\\x99È\\x88ŸÄ¿¡Æ\\x81¯Ç§\\x91Æ\\x9a\\x80'}\n",
      "7\n"
     ]
    }
   ],
   "source": [
    "#Checkpoint 1: unique company_permalinks in rounds2 which are not present in permalinks column of companies df\n",
    "A = set(list(companies.permalink.unique()))\n",
    "B = set(list(rounds2.company_permalink.unique()))\n",
    "C = B.difference(A)\n",
    "print(C)\n",
    "print(len(C))"
   ]
  },
  {
   "cell_type": "code",
   "execution_count": 7,
   "metadata": {},
   "outputs": [
    {
     "name": "stdout",
     "output_type": "stream",
     "text": [
      "{'/ORGANIZATION/ZENGAME-Ç¦\\x85Æ¸¸Ç§\\x91Æ\\x9a\\x80', '/ORGANIZATION/HUIZUCHE-COM-Æ\\x83\\xa0Ç§\\x9fÈ½¦', '/ORGANIZATION/E-CÃ\\x9aBICA', '/ORGANIZATION/ENERGYSTONE-GAMES-Ç\\x81ΜÇŸ³Æ¸¸Æ\\x88\\x8f', '/ORGANIZATION/TIPCAT-INTERACTIVE-Æ²\\x99È\\x88\\x9fÄ¿¡Æ\\x81¯Ç§\\x91Æ\\x9a\\x80'}\n",
      "5\n"
     ]
    }
   ],
   "source": [
    "#permalinks in companies df that are not present in rounds2 df\n",
    "D = A.difference(B)\n",
    "print(D)\n",
    "print(len(D))"
   ]
  },
  {
   "cell_type": "code",
   "execution_count": 8,
   "metadata": {},
   "outputs": [
    {
     "name": "stdout",
     "output_type": "stream",
     "text": [
      "66363\n"
     ]
    }
   ],
   "source": [
    "#removing rows corresponding to these permalinks in companies\n",
    "companies = companies.loc[~companies['permalink'].isin(D)]\n",
    "print(len(companies.index))"
   ]
  },
  {
   "cell_type": "code",
   "execution_count": 9,
   "metadata": {
    "collapsed": true
   },
   "outputs": [],
   "source": [
    "#removing rows corresponding to company_permalink in rounds2 which are not present in companies\n",
    "rounds2 = rounds2.loc[~rounds2['company_permalink'].isin(C)]\n"
   ]
  },
  {
   "cell_type": "code",
   "execution_count": 10,
   "metadata": {},
   "outputs": [
    {
     "name": "stdout",
     "output_type": "stream",
     "text": [
      "66363\n",
      "114942\n"
     ]
    }
   ],
   "source": [
    "print(len(rounds2.company_permalink.unique()))\n",
    "print(len(rounds2.index.unique()))"
   ]
  },
  {
   "cell_type": "code",
   "execution_count": 11,
   "metadata": {
    "collapsed": true
   },
   "outputs": [],
   "source": [
    "#arriving at country name using the country code. \n",
    "code = set(companies.country_code)\n",
    "\n",
    "import requests, json\n",
    "\n",
    "def get_country_name(code):\n",
    "    url = \"https://restcountries.eu/rest/v2/alpha/{0}\".format(code)\n",
    "    r = requests.get(url)\n",
    "    r_dict = json.loads(r.text)\n",
    "    return r_dict.get(\"name\")\n",
    "\n",
    "country_code_map = {}\n",
    "for x in code:\n",
    "    country_code_map[x] = get_country_name(x)\n",
    "#print(country_code_map)\n",
    "\n"
   ]
  },
  {
   "cell_type": "code",
   "execution_count": 12,
   "metadata": {},
   "outputs": [
    {
     "data": {
      "text/html": [
       "<div>\n",
       "<style>\n",
       "    .dataframe thead tr:only-child th {\n",
       "        text-align: right;\n",
       "    }\n",
       "\n",
       "    .dataframe thead th {\n",
       "        text-align: left;\n",
       "    }\n",
       "\n",
       "    .dataframe tbody tr th {\n",
       "        vertical-align: top;\n",
       "    }\n",
       "</style>\n",
       "<table border=\"1\" class=\"dataframe\">\n",
       "  <thead>\n",
       "    <tr style=\"text-align: right;\">\n",
       "      <th></th>\n",
       "      <th>permalink</th>\n",
       "      <th>name</th>\n",
       "      <th>homepage_url</th>\n",
       "      <th>category_list</th>\n",
       "      <th>status</th>\n",
       "      <th>country_code</th>\n",
       "      <th>state_code</th>\n",
       "      <th>region</th>\n",
       "      <th>city</th>\n",
       "      <th>founded_at</th>\n",
       "      <th>company_permalink</th>\n",
       "      <th>funding_round_permalink</th>\n",
       "      <th>funding_round_type</th>\n",
       "      <th>funding_round_code</th>\n",
       "      <th>funded_at</th>\n",
       "      <th>raised_amount_usd</th>\n",
       "    </tr>\n",
       "  </thead>\n",
       "  <tbody>\n",
       "    <tr>\n",
       "      <th>114940</th>\n",
       "      <td>/ORGANIZATION/ÃASYS-2</td>\n",
       "      <td>Ãasys</td>\n",
       "      <td>http://www.oasys.io/</td>\n",
       "      <td>Consumer Electronics|Internet of Things|Teleco...</td>\n",
       "      <td>operating</td>\n",
       "      <td>USA</td>\n",
       "      <td>CA</td>\n",
       "      <td>SF Bay Area</td>\n",
       "      <td>San Francisco</td>\n",
       "      <td>01-01-2014</td>\n",
       "      <td>/ORGANIZATION/ÃASYS-2</td>\n",
       "      <td>/funding-round/35f09d0794651719b02bbfd859ba9ff5</td>\n",
       "      <td>seed</td>\n",
       "      <td>NaN</td>\n",
       "      <td>01-01-2015</td>\n",
       "      <td>18192.0</td>\n",
       "    </tr>\n",
       "    <tr>\n",
       "      <th>114941</th>\n",
       "      <td>/ORGANIZATION/Ä°NOVATIFF-REKLAM-VE-TANÄ±TÄ±M-H...</td>\n",
       "      <td>Ä°novatiff Reklam ve TanÄ±tÄ±m Hizmetleri Tic</td>\n",
       "      <td>http://inovatiff.com</td>\n",
       "      <td>Consumer Goods|E-Commerce|Internet</td>\n",
       "      <td>operating</td>\n",
       "      <td>NaN</td>\n",
       "      <td>NaN</td>\n",
       "      <td>NaN</td>\n",
       "      <td>NaN</td>\n",
       "      <td>NaN</td>\n",
       "      <td>/ORGANIZATION/Ä°NOVATIFF-REKLAM-VE-TANÄ±TÄ±M-H...</td>\n",
       "      <td>/funding-round/af942869878d2cd788ef5189b435ebc4</td>\n",
       "      <td>grant</td>\n",
       "      <td>NaN</td>\n",
       "      <td>01-10-2013</td>\n",
       "      <td>14851.0</td>\n",
       "    </tr>\n",
       "  </tbody>\n",
       "</table>\n",
       "</div>"
      ],
      "text/plain": [
       "                                                permalink  \\\n",
       "114940                             /ORGANIZATION/ÃASYS-2   \n",
       "114941  /ORGANIZATION/Ä°NOVATIFF-REKLAM-VE-TANÄ±TÄ±M-H...   \n",
       "\n",
       "                                                 name          homepage_url  \\\n",
       "114940                                         Ãasys  http://www.oasys.io/   \n",
       "114941  Ä°novatiff Reklam ve TanÄ±tÄ±m Hizmetleri Tic  http://inovatiff.com   \n",
       "\n",
       "                                            category_list     status  \\\n",
       "114940  Consumer Electronics|Internet of Things|Teleco...  operating   \n",
       "114941                 Consumer Goods|E-Commerce|Internet  operating   \n",
       "\n",
       "       country_code state_code       region           city  founded_at  \\\n",
       "114940          USA         CA  SF Bay Area  San Francisco  01-01-2014   \n",
       "114941          NaN        NaN          NaN            NaN         NaN   \n",
       "\n",
       "                                        company_permalink  \\\n",
       "114940                             /ORGANIZATION/ÃASYS-2   \n",
       "114941  /ORGANIZATION/Ä°NOVATIFF-REKLAM-VE-TANÄ±TÄ±M-H...   \n",
       "\n",
       "                                funding_round_permalink funding_round_type  \\\n",
       "114940  /funding-round/35f09d0794651719b02bbfd859ba9ff5               seed   \n",
       "114941  /funding-round/af942869878d2cd788ef5189b435ebc4              grant   \n",
       "\n",
       "       funding_round_code   funded_at  raised_amount_usd  \n",
       "114940                NaN  01-01-2015            18192.0  \n",
       "114941                NaN  01-10-2013            14851.0  "
      ]
     },
     "execution_count": 12,
     "metadata": {},
     "output_type": "execute_result"
    }
   ],
   "source": [
    "# merging companies dataframe to rounds2 dataframe\n",
    "\n",
    "master_frame = pd.merge(companies, rounds2, how = 'left', left_on = ['permalink'], right_on=['company_permalink'])\n",
    "#del master_frame['company_permalink']\n",
    "master_frame.tail(2)"
   ]
  },
  {
   "cell_type": "code",
   "execution_count": 13,
   "metadata": {},
   "outputs": [
    {
     "name": "stdout",
     "output_type": "stream",
     "text": [
      "114942\n"
     ]
    }
   ],
   "source": [
    "#Checkpoint 1: Number of observations in master_frame\n",
    "print(len(master_frame.index))"
   ]
  },
  {
   "cell_type": "code",
   "execution_count": 14,
   "metadata": {},
   "outputs": [
    {
     "data": {
      "text/plain": [
       "permalink                   0.00\n",
       "name                        0.00\n",
       "homepage_url                5.33\n",
       "category_list               2.96\n",
       "status                      0.00\n",
       "country_code                7.54\n",
       "state_code                  9.52\n",
       "region                      8.84\n",
       "city                        8.84\n",
       "founded_at                 17.85\n",
       "company_permalink           0.00\n",
       "funding_round_permalink     0.00\n",
       "funding_round_type          0.00\n",
       "funding_round_code         72.91\n",
       "funded_at                   0.00\n",
       "raised_amount_usd          17.39\n",
       "dtype: float64"
      ]
     },
     "execution_count": 14,
     "metadata": {},
     "output_type": "execute_result"
    }
   ],
   "source": [
    "#cleaning columns\n",
    "#summing up missing values in each of the column of master_frame and displaying it as percentage\n",
    "round(100*(master_frame.isnull().sum()/len(master_frame.index)),2)"
   ]
  },
  {
   "cell_type": "code",
   "execution_count": 15,
   "metadata": {
    "collapsed": true
   },
   "outputs": [],
   "source": [
    "#Observation:\n",
    "#removal of company_permalink column which has duplicate values of permalink\n",
    "master_frame = master_frame.drop('company_permalink', axis =1)\n",
    "# Funding_round_code has 72% null values. Since we are not performing any analysis based on this column, we will drop the col\n",
    "master_frame = master_frame.drop('funding_round_code', axis=1)\n",
    "# founded_at has 17% null values. dropping this column too as it doesnt impact our analysis\n",
    "master_frame = master_frame.drop('founded_at', axis=1)\n",
    "#homepage_url having 5% null values also have no significance in our analysis\n",
    "master_frame = master_frame.drop('homepage_url',axis=1)"
   ]
  },
  {
   "cell_type": "code",
   "execution_count": 16,
   "metadata": {},
   "outputs": [
    {
     "data": {
      "text/plain": [
       "permalink                   0.00\n",
       "name                        0.00\n",
       "category_list               2.96\n",
       "status                      0.00\n",
       "country_code                7.54\n",
       "state_code                  9.52\n",
       "region                      8.84\n",
       "city                        8.84\n",
       "funding_round_permalink     0.00\n",
       "funding_round_type          0.00\n",
       "funded_at                   0.00\n",
       "raised_amount_usd          17.39\n",
       "dtype: float64"
      ]
     },
     "execution_count": 16,
     "metadata": {},
     "output_type": "execute_result"
    }
   ],
   "source": [
    "#summing up missing values in each of the column of master_frame and displaying it as percentage\n",
    "round(100*(master_frame.isnull().sum()/len(master_frame.index)),2)"
   ]
  },
  {
   "cell_type": "code",
   "execution_count": 17,
   "metadata": {},
   "outputs": [
    {
     "data": {
      "text/plain": [
       "permalink                  0.00\n",
       "name                       0.00\n",
       "category_list              1.24\n",
       "status                     0.00\n",
       "country_code               4.30\n",
       "state_code                 5.75\n",
       "region                     5.43\n",
       "city                       5.42\n",
       "funding_round_permalink    0.00\n",
       "funding_round_type         0.00\n",
       "funded_at                  0.00\n",
       "raised_amount_usd          0.00\n",
       "dtype: float64"
      ]
     },
     "execution_count": 17,
     "metadata": {},
     "output_type": "execute_result"
    }
   ],
   "source": [
    "#cleaning rows\n",
    "#Checkpoint 2: \n",
    "# Spark funds wants to invest money in range of 5M to 15M only, we will consider raise_amount_usd column value in this range\n",
    "funding_analysis = master_frame.loc[((master_frame['raised_amount_usd'] >= 5000000)\n",
    "                                     &(master_frame['raised_amount_usd'] <= 15000000)),:]\n",
    "#summing up missing values in each of the column of funding_analysis and displaying it as percentage\n",
    "round(100*(funding_analysis.isnull().sum()/len(funding_analysis.index)),2)"
   ]
  },
  {
   "cell_type": "code",
   "execution_count": 18,
   "metadata": {},
   "outputs": [
    {
     "name": "stdout",
     "output_type": "stream",
     "text": [
      "18848\n"
     ]
    }
   ],
   "source": [
    "#Total number of observation is funding_analysis dataframe\n",
    "print(len(funding_analysis.index))"
   ]
  },
  {
   "cell_type": "code",
   "execution_count": 19,
   "metadata": {},
   "outputs": [
    {
     "name": "stdout",
     "output_type": "stream",
     "text": [
      "18615\n"
     ]
    }
   ],
   "source": [
    "print(len(funding_analysis.loc[~(funding_analysis['category_list'].isnull())]))"
   ]
  },
  {
   "cell_type": "code",
   "execution_count": 20,
   "metadata": {},
   "outputs": [
    {
     "data": {
      "text/plain": [
       "permalink                  0.00\n",
       "name                       0.00\n",
       "category_list              0.00\n",
       "status                     0.00\n",
       "country_code               3.91\n",
       "state_code                 5.35\n",
       "region                     5.04\n",
       "city                       5.03\n",
       "funding_round_permalink    0.00\n",
       "funding_round_type         0.00\n",
       "funded_at                  0.00\n",
       "raised_amount_usd          0.00\n",
       "dtype: float64"
      ]
     },
     "execution_count": 20,
     "metadata": {},
     "output_type": "execute_result"
    }
   ],
   "source": [
    "#observation\n",
    "# out of 18848 records in funding_analysis dataframe, 1% of data doesnt contain any value for category_list\n",
    "# removing all rows where category_list is null\n",
    "funding_analysis = funding_analysis.loc[~(funding_analysis['category_list'].isnull())]\n",
    "#summing up missing values in each of the column of funding_analysis and displaying it as percentage\n",
    "round(100*(funding_analysis.isnull().sum()/len(funding_analysis.index)),2)"
   ]
  },
  {
   "cell_type": "code",
   "execution_count": 21,
   "metadata": {},
   "outputs": [
    {
     "data": {
      "text/plain": [
       "permalink                  0.0\n",
       "name                       0.0\n",
       "category_list              0.0\n",
       "status                     0.0\n",
       "funding_round_permalink    0.0\n",
       "funding_round_type         0.0\n",
       "funded_at                  0.0\n",
       "raised_amount_usd          0.0\n",
       "dtype: float64"
      ]
     },
     "execution_count": 21,
     "metadata": {},
     "output_type": "execute_result"
    }
   ],
   "source": [
    "#observation: City, state, region, country_code are not required for funding type analysis\n",
    "funding_analysis = funding_analysis.drop('country_code',axis=1)\n",
    "funding_analysis = funding_analysis.drop('state_code',axis=1)\n",
    "funding_analysis = funding_analysis.drop('region',axis=1)\n",
    "funding_analysis = funding_analysis.drop('city',axis=1)\n",
    "#summing up missing values in each of the column of funding_analysis and displaying it as percentage\n",
    "round(100*(funding_analysis.isnull().sum()/len(funding_analysis.index)),2)\n"
   ]
  },
  {
   "cell_type": "code",
   "execution_count": 22,
   "metadata": {},
   "outputs": [
    {
     "name": "stdout",
     "output_type": "stream",
     "text": [
      "18615\n"
     ]
    }
   ],
   "source": [
    "#number of records for funding type analysis\n",
    "print(len(funding_analysis.index))"
   ]
  },
  {
   "cell_type": "code",
   "execution_count": 23,
   "metadata": {},
   "outputs": [
    {
     "name": "stdout",
     "output_type": "stream",
     "text": [
      "after removal of duplicate seed and angel:18566\n"
     ]
    }
   ],
   "source": [
    "#requirement says that \n",
    "#\"This means that if a company has reached the venture stage, it would have already passed through the angel or seed stage/s.\"\n",
    "#so, we remove rows with 'seed' and 'angel' category_list for those companies that have already reached venture stage\n",
    "cos_venture = funding_analysis.loc[(funding_analysis.funding_round_type == 'venture'),['permalink']]\n",
    "\n",
    "#set of companies at funding_round_type level 'venture'\n",
    "set_cos_venture = set(list(cos_venture['permalink']))\n",
    "\n",
    "#selecting the records with funding_round_type 'seed', 'angel' for companies already in 'venture' stage\n",
    "\n",
    "rem_dup = funding_analysis.loc[~((funding_analysis['permalink'].isin(set_cos_venture)) & (funding_analysis['funding_round_type'] == 'seed') | \n",
    "                        ( (funding_analysis['permalink'].isin(set_cos_venture)) & (funding_analysis['funding_round_type'] == 'angel'))),:]\n",
    "print('after removal of duplicate seed and angel:' + str(len(rem_dup.index)))\n"
   ]
  },
  {
   "cell_type": "code",
   "execution_count": 24,
   "metadata": {},
   "outputs": [
    {
     "data": {
      "text/html": [
       "<div>\n",
       "<style>\n",
       "    .dataframe thead tr:only-child th {\n",
       "        text-align: right;\n",
       "    }\n",
       "\n",
       "    .dataframe thead th {\n",
       "        text-align: left;\n",
       "    }\n",
       "\n",
       "    .dataframe tbody tr th {\n",
       "        vertical-align: top;\n",
       "    }\n",
       "</style>\n",
       "<table border=\"1\" class=\"dataframe\">\n",
       "  <thead>\n",
       "    <tr style=\"text-align: right;\">\n",
       "      <th></th>\n",
       "      <th>raised_amount_usd</th>\n",
       "    </tr>\n",
       "    <tr>\n",
       "      <th>funding_round_type</th>\n",
       "      <th></th>\n",
       "    </tr>\n",
       "  </thead>\n",
       "  <tbody>\n",
       "    <tr>\n",
       "      <th>angel</th>\n",
       "      <td>6800000.0</td>\n",
       "    </tr>\n",
       "    <tr>\n",
       "      <th>convertible_note</th>\n",
       "      <td>6925436.5</td>\n",
       "    </tr>\n",
       "    <tr>\n",
       "      <th>debt_financing</th>\n",
       "      <td>7500000.0</td>\n",
       "    </tr>\n",
       "    <tr>\n",
       "      <th>equity_crowdfunding</th>\n",
       "      <td>6000000.0</td>\n",
       "    </tr>\n",
       "    <tr>\n",
       "      <th>grant</th>\n",
       "      <td>8100000.0</td>\n",
       "    </tr>\n",
       "    <tr>\n",
       "      <th>non_equity_assistance</th>\n",
       "      <td>15000000.0</td>\n",
       "    </tr>\n",
       "    <tr>\n",
       "      <th>post_ipo_debt</th>\n",
       "      <td>9750000.0</td>\n",
       "    </tr>\n",
       "    <tr>\n",
       "      <th>post_ipo_equity</th>\n",
       "      <td>9276437.5</td>\n",
       "    </tr>\n",
       "    <tr>\n",
       "      <th>private_equity</th>\n",
       "      <td>9473556.0</td>\n",
       "    </tr>\n",
       "    <tr>\n",
       "      <th>product_crowdfunding</th>\n",
       "      <td>8782571.0</td>\n",
       "    </tr>\n",
       "    <tr>\n",
       "      <th>secondary_market</th>\n",
       "      <td>6955631.5</td>\n",
       "    </tr>\n",
       "    <tr>\n",
       "      <th>seed</th>\n",
       "      <td>5943536.0</td>\n",
       "    </tr>\n",
       "    <tr>\n",
       "      <th>undisclosed</th>\n",
       "      <td>8000000.0</td>\n",
       "    </tr>\n",
       "    <tr>\n",
       "      <th>venture</th>\n",
       "      <td>8270000.0</td>\n",
       "    </tr>\n",
       "  </tbody>\n",
       "</table>\n",
       "</div>"
      ],
      "text/plain": [
       "                       raised_amount_usd\n",
       "funding_round_type                      \n",
       "angel                          6800000.0\n",
       "convertible_note               6925436.5\n",
       "debt_financing                 7500000.0\n",
       "equity_crowdfunding            6000000.0\n",
       "grant                          8100000.0\n",
       "non_equity_assistance         15000000.0\n",
       "post_ipo_debt                  9750000.0\n",
       "post_ipo_equity                9276437.5\n",
       "private_equity                 9473556.0\n",
       "product_crowdfunding           8782571.0\n",
       "secondary_market               6955631.5\n",
       "seed                           5943536.0\n",
       "undisclosed                    8000000.0\n",
       "venture                        8270000.0"
      ]
     },
     "execution_count": 24,
     "metadata": {},
     "output_type": "execute_result"
    }
   ],
   "source": [
    "#creating a pivot table to compare median funding amount across funding_round_type\n",
    "rem_dup.pivot_table(values = 'raised_amount_usd', index = 'funding_round_type', aggfunc='median')"
   ]
  },
  {
   "cell_type": "code",
   "execution_count": 25,
   "metadata": {},
   "outputs": [
    {
     "data": {
      "text/html": [
       "<div>\n",
       "<style>\n",
       "    .dataframe thead tr:only-child th {\n",
       "        text-align: right;\n",
       "    }\n",
       "\n",
       "    .dataframe thead th {\n",
       "        text-align: left;\n",
       "    }\n",
       "\n",
       "    .dataframe tbody tr th {\n",
       "        vertical-align: top;\n",
       "    }\n",
       "</style>\n",
       "<table border=\"1\" class=\"dataframe\">\n",
       "  <thead>\n",
       "    <tr style=\"text-align: right;\">\n",
       "      <th></th>\n",
       "      <th>raised_amount_usd</th>\n",
       "    </tr>\n",
       "    <tr>\n",
       "      <th>funding_round_type</th>\n",
       "      <th></th>\n",
       "    </tr>\n",
       "  </thead>\n",
       "  <tbody>\n",
       "    <tr>\n",
       "      <th>angel</th>\n",
       "      <td>7.297153e+06</td>\n",
       "    </tr>\n",
       "    <tr>\n",
       "      <th>convertible_note</th>\n",
       "      <td>8.071730e+06</td>\n",
       "    </tr>\n",
       "    <tr>\n",
       "      <th>debt_financing</th>\n",
       "      <td>8.277618e+06</td>\n",
       "    </tr>\n",
       "    <tr>\n",
       "      <th>equity_crowdfunding</th>\n",
       "      <td>6.615061e+06</td>\n",
       "    </tr>\n",
       "    <tr>\n",
       "      <th>grant</th>\n",
       "      <td>8.475851e+06</td>\n",
       "    </tr>\n",
       "    <tr>\n",
       "      <th>non_equity_assistance</th>\n",
       "      <td>1.500000e+07</td>\n",
       "    </tr>\n",
       "    <tr>\n",
       "      <th>post_ipo_debt</th>\n",
       "      <td>8.793382e+06</td>\n",
       "    </tr>\n",
       "    <tr>\n",
       "      <th>post_ipo_equity</th>\n",
       "      <td>9.325944e+06</td>\n",
       "    </tr>\n",
       "    <tr>\n",
       "      <th>private_equity</th>\n",
       "      <td>9.273356e+06</td>\n",
       "    </tr>\n",
       "    <tr>\n",
       "      <th>product_crowdfunding</th>\n",
       "      <td>9.158713e+06</td>\n",
       "    </tr>\n",
       "    <tr>\n",
       "      <th>secondary_market</th>\n",
       "      <td>8.102816e+06</td>\n",
       "    </tr>\n",
       "    <tr>\n",
       "      <th>seed</th>\n",
       "      <td>6.600084e+06</td>\n",
       "    </tr>\n",
       "    <tr>\n",
       "      <th>undisclosed</th>\n",
       "      <td>8.499411e+06</td>\n",
       "    </tr>\n",
       "    <tr>\n",
       "      <th>venture</th>\n",
       "      <td>8.889190e+06</td>\n",
       "    </tr>\n",
       "  </tbody>\n",
       "</table>\n",
       "</div>"
      ],
      "text/plain": [
       "                       raised_amount_usd\n",
       "funding_round_type                      \n",
       "angel                       7.297153e+06\n",
       "convertible_note            8.071730e+06\n",
       "debt_financing              8.277618e+06\n",
       "equity_crowdfunding         6.615061e+06\n",
       "grant                       8.475851e+06\n",
       "non_equity_assistance       1.500000e+07\n",
       "post_ipo_debt               8.793382e+06\n",
       "post_ipo_equity             9.325944e+06\n",
       "private_equity              9.273356e+06\n",
       "product_crowdfunding        9.158713e+06\n",
       "secondary_market            8.102816e+06\n",
       "seed                        6.600084e+06\n",
       "undisclosed                 8.499411e+06\n",
       "venture                     8.889190e+06"
      ]
     },
     "execution_count": 25,
     "metadata": {},
     "output_type": "execute_result"
    }
   ],
   "source": [
    "#creating a pivot table to compare average funding amount across funding_round_type\n",
    "rem_dup.pivot_table(values = 'raised_amount_usd', index = 'funding_round_type', aggfunc='mean')"
   ]
  },
  {
   "cell_type": "code",
   "execution_count": 26,
   "metadata": {
    "collapsed": true
   },
   "outputs": [],
   "source": [
    "# agg function  = median\n",
    "#angel = 6800000.0 -- 6 million 800 thousand\n",
    "#seed = 5943536.0 -- five million nine hundred forty-three thousand five hundred thirty-six\n",
    "#venture = 8270000.0 -- eight million two hundred seventy thousand\n",
    "#private_equity = 9473556.0 -- nine million four hundred seventy-three thousand five hundred fifty-six"
   ]
  },
  {
   "cell_type": "code",
   "execution_count": 27,
   "metadata": {
    "collapsed": true
   },
   "outputs": [],
   "source": [
    "# agg function  = mean\n",
    "#angel = 7297153.0 -- 7 million\n",
    "#seed = 6600084.0 -- 6.6 million\n",
    "#venture = 8889190.0 -- 8.8 million\n",
    "#private_equity = 9273356.0 -- 9.27 million"
   ]
  },
  {
   "cell_type": "code",
   "execution_count": 28,
   "metadata": {
    "collapsed": true
   },
   "outputs": [],
   "source": [
    "#checkpoint 6:\n",
    "fund_type = rem_dup.loc[((rem_dup['funding_round_type']=='seed')|(rem_dup['funding_round_type']=='venture')|\n",
    "                              (rem_dup['funding_round_type']=='private_equity'))]\n"
   ]
  },
  {
   "cell_type": "code",
   "execution_count": 29,
   "metadata": {},
   "outputs": [
    {
     "data": {
      "text/plain": [
       "funding_round_type     status   \n",
       "angel                  acquired         4\n",
       "                       closed           5\n",
       "                       ipo              1\n",
       "                       operating       50\n",
       "convertible_note       acquired         1\n",
       "                       closed           3\n",
       "                       ipo              4\n",
       "                       operating       40\n",
       "debt_financing         acquired       129\n",
       "                       closed          55\n",
       "                       ipo             96\n",
       "                       operating      584\n",
       "equity_crowdfunding    acquired         1\n",
       "                       operating       21\n",
       "grant                  acquired         5\n",
       "                       closed           6\n",
       "                       ipo             15\n",
       "                       operating      134\n",
       "non_equity_assistance  operating        1\n",
       "post_ipo_debt          acquired         2\n",
       "                       closed           4\n",
       "                       ipo             28\n",
       "post_ipo_equity        acquired         7\n",
       "                       closed          10\n",
       "                       ipo            130\n",
       "                       operating        3\n",
       "private_equity         acquired        50\n",
       "                       closed          26\n",
       "                       ipo             67\n",
       "                       operating      281\n",
       "product_crowdfunding   acquired         1\n",
       "                       ipo              1\n",
       "                       operating       13\n",
       "secondary_market       acquired         1\n",
       "                       operating        3\n",
       "seed                   acquired         4\n",
       "                       closed           6\n",
       "                       ipo              2\n",
       "                       operating      151\n",
       "undisclosed            acquired        36\n",
       "                       closed          22\n",
       "                       ipo             10\n",
       "                       operating      154\n",
       "venture                acquired      3402\n",
       "                       closed        1082\n",
       "                       ipo            746\n",
       "                       operating    11169\n",
       "Name: status, dtype: int64"
      ]
     },
     "execution_count": 29,
     "metadata": {},
     "output_type": "execute_result"
    }
   ],
   "source": [
    "#grouping the df based on status and category_list\n",
    "rem_dup_grp = rem_dup.groupby(by=['funding_round_type','status'])\n",
    "rem_dup_grp['status'].count()"
   ]
  },
  {
   "cell_type": "code",
   "execution_count": 30,
   "metadata": {
    "collapsed": true
   },
   "outputs": [],
   "source": [
    "#venture                acquired      3402\n",
    "#                       closed        1082\n",
    "#                       ipo            746\n",
    "#                       operating    11169\n",
    "\n",
    "#angel                  acquired         4\n",
    "#                       closed           5\n",
    "#                       ipo              1\n",
    "#                       operating       50\n",
    "\n",
    "#seed                   acquired         4\n",
    "#                       closed           6\n",
    "#                       ipo              2\n",
    "#                       operating      151\n",
    "\n",
    "#private_equity         acquired        50\n",
    "#                       closed          26\n",
    "#                       ipo             67\n",
    "#                       operating      281\n",
    "\n",
    "#observation: since the density of investment is more in 'venture' and also median investment amount is in around 8M\n",
    "#we choose investment type = venture"
   ]
  },
  {
   "cell_type": "code",
   "execution_count": 31,
   "metadata": {
    "collapsed": true
   },
   "outputs": [],
   "source": [
    "#Checkpoint 3: Country analysis\n",
    "# considering all data with funding_round_type as venture\n"
   ]
  },
  {
   "cell_type": "code",
   "execution_count": 32,
   "metadata": {},
   "outputs": [
    {
     "data": {
      "text/plain": [
       "permalink                   0.00\n",
       "name                        0.00\n",
       "category_list               2.96\n",
       "status                      0.00\n",
       "country_code                7.54\n",
       "state_code                  9.52\n",
       "region                      8.84\n",
       "city                        8.84\n",
       "funding_round_permalink     0.00\n",
       "funding_round_type          0.00\n",
       "funded_at                   0.00\n",
       "raised_amount_usd          17.39\n",
       "dtype: float64"
      ]
     },
     "execution_count": 32,
     "metadata": {},
     "output_type": "execute_result"
    }
   ],
   "source": [
    "#status of master_frame\n",
    "#summing up missing values in each of the column of master_frame and displaying it as percentage\n",
    "round(100*(master_frame.isnull().sum()/len(master_frame.index)),2)"
   ]
  },
  {
   "cell_type": "code",
   "execution_count": 33,
   "metadata": {},
   "outputs": [
    {
     "name": "stdout",
     "output_type": "stream",
     "text": [
      "114942\n"
     ]
    }
   ],
   "source": [
    "#total number of records in master_frame\n",
    "print(len(master_frame.index))"
   ]
  },
  {
   "cell_type": "code",
   "execution_count": 34,
   "metadata": {},
   "outputs": [
    {
     "name": "stdout",
     "output_type": "stream",
     "text": [
      "55493\n"
     ]
    }
   ],
   "source": [
    "#chosen investment type = venture\n",
    "\n",
    "venture_companies = master_frame.loc[master_frame['funding_round_type'] == 'venture']\n",
    "print(len(venture_companies.index))"
   ]
  },
  {
   "cell_type": "code",
   "execution_count": 35,
   "metadata": {},
   "outputs": [
    {
     "data": {
      "text/html": [
       "<div>\n",
       "<style>\n",
       "    .dataframe thead tr:only-child th {\n",
       "        text-align: right;\n",
       "    }\n",
       "\n",
       "    .dataframe thead th {\n",
       "        text-align: left;\n",
       "    }\n",
       "\n",
       "    .dataframe tbody tr th {\n",
       "        vertical-align: top;\n",
       "    }\n",
       "</style>\n",
       "<table border=\"1\" class=\"dataframe\">\n",
       "  <thead>\n",
       "    <tr style=\"text-align: right;\">\n",
       "      <th></th>\n",
       "      <th>permalink</th>\n",
       "      <th>name</th>\n",
       "      <th>category_list</th>\n",
       "      <th>status</th>\n",
       "      <th>country_code</th>\n",
       "      <th>state_code</th>\n",
       "      <th>region</th>\n",
       "      <th>city</th>\n",
       "      <th>funding_round_permalink</th>\n",
       "      <th>funding_round_type</th>\n",
       "      <th>funded_at</th>\n",
       "      <th>raised_amount_usd</th>\n",
       "    </tr>\n",
       "  </thead>\n",
       "  <tbody>\n",
       "    <tr>\n",
       "      <th>0</th>\n",
       "      <td>/ORGANIZATION/-FAME</td>\n",
       "      <td>#fame</td>\n",
       "      <td>Media</td>\n",
       "      <td>operating</td>\n",
       "      <td>IND</td>\n",
       "      <td>16</td>\n",
       "      <td>Mumbai</td>\n",
       "      <td>Mumbai</td>\n",
       "      <td>/funding-round/9a01d05418af9f794eebff7ace91f638</td>\n",
       "      <td>venture</td>\n",
       "      <td>05-01-2015</td>\n",
       "      <td>10000000.0</td>\n",
       "    </tr>\n",
       "    <tr>\n",
       "      <th>1</th>\n",
       "      <td>/ORGANIZATION/-QOUNTER</td>\n",
       "      <td>:Qounter</td>\n",
       "      <td>Application Platforms|Real Time|Social Network...</td>\n",
       "      <td>operating</td>\n",
       "      <td>USA</td>\n",
       "      <td>DE</td>\n",
       "      <td>DE - Other</td>\n",
       "      <td>Delaware City</td>\n",
       "      <td>/funding-round/22dacff496eb7acb2b901dec1dfe5633</td>\n",
       "      <td>venture</td>\n",
       "      <td>14-10-2014</td>\n",
       "      <td>NaN</td>\n",
       "    </tr>\n",
       "  </tbody>\n",
       "</table>\n",
       "</div>"
      ],
      "text/plain": [
       "                permalink      name  \\\n",
       "0     /ORGANIZATION/-FAME     #fame   \n",
       "1  /ORGANIZATION/-QOUNTER  :Qounter   \n",
       "\n",
       "                                       category_list     status country_code  \\\n",
       "0                                              Media  operating          IND   \n",
       "1  Application Platforms|Real Time|Social Network...  operating          USA   \n",
       "\n",
       "  state_code      region           city  \\\n",
       "0         16      Mumbai         Mumbai   \n",
       "1         DE  DE - Other  Delaware City   \n",
       "\n",
       "                           funding_round_permalink funding_round_type  \\\n",
       "0  /funding-round/9a01d05418af9f794eebff7ace91f638            venture   \n",
       "1  /funding-round/22dacff496eb7acb2b901dec1dfe5633            venture   \n",
       "\n",
       "    funded_at  raised_amount_usd  \n",
       "0  05-01-2015         10000000.0  \n",
       "1  14-10-2014                NaN  "
      ]
     },
     "execution_count": 35,
     "metadata": {},
     "output_type": "execute_result"
    }
   ],
   "source": [
    "venture_companies.head(2)"
   ]
  },
  {
   "cell_type": "code",
   "execution_count": 36,
   "metadata": {},
   "outputs": [
    {
     "data": {
      "text/plain": [
       "permalink                  0.00\n",
       "name                       0.00\n",
       "category_list              2.04\n",
       "status                     0.00\n",
       "country_code               5.18\n",
       "state_code                 6.84\n",
       "region                     6.40\n",
       "city                       6.40\n",
       "funding_round_permalink    0.00\n",
       "funding_round_type         0.00\n",
       "funded_at                  0.00\n",
       "raised_amount_usd          9.49\n",
       "dtype: float64"
      ]
     },
     "execution_count": 36,
     "metadata": {},
     "output_type": "execute_result"
    }
   ],
   "source": [
    "#summing up missing values in each of the column of venture_companies and displaying it as percentage\n",
    "round(100*(venture_companies.isnull().sum()/len(venture_companies.index)),2)"
   ]
  },
  {
   "cell_type": "code",
   "execution_count": 37,
   "metadata": {},
   "outputs": [
    {
     "name": "stdout",
     "output_type": "stream",
     "text": [
      "52619\n"
     ]
    }
   ],
   "source": [
    "#cleaning rows\n",
    "# 1. category_list has 2% null values, for country analysis we just check the total amount invested in each country irrespective of \n",
    "# the type of company\n",
    "# the col category_list can be dropper, but the same would be needed for performing the sector analysis in checkpoint 4\n",
    "# so, we will ignore the category_list columns for country analysis\n",
    "# 2. country_code has 5% null values, we now reduce the null values here by removing those columns where location details are not \n",
    "# provided at all\n",
    "\n",
    "venture_companies = venture_companies.loc[~((venture_companies['city'].isnull())&(venture_companies['region'].isnull())\n",
    "                &(venture_companies['state_code'].isnull())\n",
    "                 &(venture_companies['country_code'].isnull()))]\n",
    "\n",
    "print(len(venture_companies))\n"
   ]
  },
  {
   "cell_type": "code",
   "execution_count": 38,
   "metadata": {},
   "outputs": [
    {
     "data": {
      "text/plain": [
       "permalink                  0.00\n",
       "name                       0.00\n",
       "category_list              1.13\n",
       "status                     0.00\n",
       "country_code               0.00\n",
       "state_code                 1.75\n",
       "region                     1.29\n",
       "city                       1.29\n",
       "funding_round_permalink    0.00\n",
       "funding_round_type         0.00\n",
       "funded_at                  0.00\n",
       "raised_amount_usd          8.57\n",
       "dtype: float64"
      ]
     },
     "execution_count": 38,
     "metadata": {},
     "output_type": "execute_result"
    }
   ],
   "source": [
    "#summing up missing values in each of the column of venture_companies and displaying it as percentage\n",
    "round(100*(venture_companies.isnull().sum()/len(venture_companies.index)),2)"
   ]
  },
  {
   "cell_type": "code",
   "execution_count": 39,
   "metadata": {},
   "outputs": [
    {
     "data": {
      "text/plain": [
       "permalink                  0.00\n",
       "name                       0.00\n",
       "category_list              1.13\n",
       "status                     0.00\n",
       "country_code               0.00\n",
       "funding_round_permalink    0.00\n",
       "funding_round_type         0.00\n",
       "funded_at                  0.00\n",
       "raised_amount_usd          8.57\n",
       "dtype: float64"
      ]
     },
     "execution_count": 39,
     "metadata": {},
     "output_type": "execute_result"
    }
   ],
   "source": [
    "# country code is not null now, state_code, region and city columns are not needed for country analysis\n",
    "venture_companies = venture_companies.drop('state_code', axis=1)\n",
    "venture_companies = venture_companies.drop('region', axis=1)\n",
    "venture_companies = venture_companies.drop('city', axis=1)\n",
    "#summing up missing values in each of the column of venture_companies and displaying it as percentage\n",
    "round(100*(venture_companies.isnull().sum()/len(venture_companies.index)),2)"
   ]
  },
  {
   "cell_type": "code",
   "execution_count": 40,
   "metadata": {},
   "outputs": [
    {
     "name": "stdout",
     "output_type": "stream",
     "text": [
      "52619\n",
      "4508\n"
     ]
    }
   ],
   "source": [
    "#total rows in venture_companies\n",
    "print(len(venture_companies.index))\n",
    "#total rows where raised_amount_usd is null\n",
    "print(len(venture_companies.loc[venture_companies['raised_amount_usd'].isnull()]))"
   ]
  },
  {
   "cell_type": "code",
   "execution_count": 41,
   "metadata": {},
   "outputs": [
    {
     "data": {
      "text/plain": [
       "count    4.811100e+04\n",
       "mean     1.173578e+07\n",
       "std      8.795109e+07\n",
       "min      0.000000e+00\n",
       "25%      1.603912e+06\n",
       "50%      5.000000e+06\n",
       "75%      1.200000e+07\n",
       "max      1.760000e+10\n",
       "Name: raised_amount_usd, dtype: float64"
      ]
     },
     "execution_count": 41,
     "metadata": {},
     "output_type": "execute_result"
    }
   ],
   "source": [
    "\n",
    "venture_companies['raised_amount_usd'].describe()"
   ]
  },
  {
   "cell_type": "code",
   "execution_count": 42,
   "metadata": {},
   "outputs": [
    {
     "data": {
      "text/plain": [
       "permalink                  0.00\n",
       "name                       0.00\n",
       "category_list              0.63\n",
       "status                     0.00\n",
       "country_code               0.00\n",
       "funding_round_permalink    0.00\n",
       "funding_round_type         0.00\n",
       "funded_at                  0.00\n",
       "raised_amount_usd          0.00\n",
       "dtype: float64"
      ]
     },
     "execution_count": 42,
     "metadata": {},
     "output_type": "execute_result"
    }
   ],
   "source": [
    "#around 9% of the data has null in raised_amount_usd, we will delete those rows as there is significant variation in amount\n",
    "venture_companies = venture_companies[~(np.isnan(venture_companies['raised_amount_usd']))]\n",
    "#summing up missing values in each of the column of venture_companies and displaying it as percentage\n",
    "round(100*(venture_companies.isnull().sum()/len(venture_companies.index)),2)"
   ]
  },
  {
   "cell_type": "code",
   "execution_count": 43,
   "metadata": {
    "collapsed": true
   },
   "outputs": [],
   "source": [
    "#creation of dataframe containing total investment amount each country has received\n",
    "top9_groupby = venture_companies.groupby('country_code')\n",
    "countries = pd.DataFrame(top9_groupby.sum())\n",
    "top9_sorted = countries.sort_values(by='raised_amount_usd', ascending= False)"
   ]
  },
  {
   "cell_type": "code",
   "execution_count": 44,
   "metadata": {},
   "outputs": [
    {
     "data": {
      "text/html": [
       "<div>\n",
       "<style>\n",
       "    .dataframe thead tr:only-child th {\n",
       "        text-align: right;\n",
       "    }\n",
       "\n",
       "    .dataframe thead th {\n",
       "        text-align: left;\n",
       "    }\n",
       "\n",
       "    .dataframe tbody tr th {\n",
       "        vertical-align: top;\n",
       "    }\n",
       "</style>\n",
       "<table border=\"1\" class=\"dataframe\">\n",
       "  <thead>\n",
       "    <tr style=\"text-align: right;\">\n",
       "      <th></th>\n",
       "      <th>country_code</th>\n",
       "      <th>raised_amount_usd</th>\n",
       "    </tr>\n",
       "  </thead>\n",
       "  <tbody>\n",
       "    <tr>\n",
       "      <th>0</th>\n",
       "      <td>USA</td>\n",
       "      <td>4.225108e+11</td>\n",
       "    </tr>\n",
       "    <tr>\n",
       "      <th>1</th>\n",
       "      <td>CHN</td>\n",
       "      <td>3.983542e+10</td>\n",
       "    </tr>\n",
       "    <tr>\n",
       "      <th>2</th>\n",
       "      <td>GBR</td>\n",
       "      <td>2.024563e+10</td>\n",
       "    </tr>\n",
       "    <tr>\n",
       "      <th>3</th>\n",
       "      <td>IND</td>\n",
       "      <td>1.439186e+10</td>\n",
       "    </tr>\n",
       "    <tr>\n",
       "      <th>4</th>\n",
       "      <td>CAN</td>\n",
       "      <td>9.583332e+09</td>\n",
       "    </tr>\n",
       "    <tr>\n",
       "      <th>5</th>\n",
       "      <td>FRA</td>\n",
       "      <td>7.259537e+09</td>\n",
       "    </tr>\n",
       "    <tr>\n",
       "      <th>6</th>\n",
       "      <td>ISR</td>\n",
       "      <td>6.907515e+09</td>\n",
       "    </tr>\n",
       "    <tr>\n",
       "      <th>7</th>\n",
       "      <td>DEU</td>\n",
       "      <td>6.346960e+09</td>\n",
       "    </tr>\n",
       "    <tr>\n",
       "      <th>8</th>\n",
       "      <td>JPN</td>\n",
       "      <td>3.363677e+09</td>\n",
       "    </tr>\n",
       "  </tbody>\n",
       "</table>\n",
       "</div>"
      ],
      "text/plain": [
       "  country_code  raised_amount_usd\n",
       "0          USA       4.225108e+11\n",
       "1          CHN       3.983542e+10\n",
       "2          GBR       2.024563e+10\n",
       "3          IND       1.439186e+10\n",
       "4          CAN       9.583332e+09\n",
       "5          FRA       7.259537e+09\n",
       "6          ISR       6.907515e+09\n",
       "7          DEU       6.346960e+09\n",
       "8          JPN       3.363677e+09"
      ]
     },
     "execution_count": 44,
     "metadata": {},
     "output_type": "execute_result"
    }
   ],
   "source": [
    "top9 = top9_sorted.head(9)\n",
    "top9.reset_index(inplace=True)\n",
    "top9 #checkpoint 4"
   ]
  },
  {
   "cell_type": "code",
   "execution_count": 45,
   "metadata": {},
   "outputs": [
    {
     "name": "stdout",
     "output_type": "stream",
     "text": [
      "['United States of America', 'China', 'United Kingdom of Great Britain and Northern Ireland', 'India', 'Canada', 'France', 'Israel', 'Germany', 'Japan']\n"
     ]
    }
   ],
   "source": [
    "#get the country names using the index of sorted top9 dataframe\n",
    "\n",
    "print([country_code_map.get(key) for key in top9.country_code] )"
   ]
  },
  {
   "cell_type": "code",
   "execution_count": 46,
   "metadata": {
    "collapsed": true
   },
   "outputs": [],
   "source": [
    "#The above list values have to be manually compared with the Official english speaking countries Pdf shared\n",
    "# by manual comparison, it following were the top3 english speaking countries\n",
    "#United States\n",
    "#United Kingdom\n",
    "#India\n",
    "country_1 = 'USA'\n",
    "country_2 = 'GBR'\n",
    "country_3 = 'IND'"
   ]
  },
  {
   "cell_type": "code",
   "execution_count": 47,
   "metadata": {},
   "outputs": [
    {
     "data": {
      "text/html": [
       "<div>\n",
       "<style>\n",
       "    .dataframe thead tr:only-child th {\n",
       "        text-align: right;\n",
       "    }\n",
       "\n",
       "    .dataframe thead th {\n",
       "        text-align: left;\n",
       "    }\n",
       "\n",
       "    .dataframe tbody tr th {\n",
       "        vertical-align: top;\n",
       "    }\n",
       "</style>\n",
       "<table border=\"1\" class=\"dataframe\">\n",
       "  <thead>\n",
       "    <tr style=\"text-align: right;\">\n",
       "      <th></th>\n",
       "      <th>category_list</th>\n",
       "      <th>Automotive &amp; Sports</th>\n",
       "      <th>Blanks</th>\n",
       "      <th>Cleantech / Semiconductors</th>\n",
       "      <th>Entertainment</th>\n",
       "      <th>Health</th>\n",
       "      <th>Manufacturing</th>\n",
       "      <th>News, Search and Messaging</th>\n",
       "      <th>Others</th>\n",
       "      <th>Social, Finance, Analytics, Advertising</th>\n",
       "    </tr>\n",
       "  </thead>\n",
       "  <tbody>\n",
       "    <tr>\n",
       "      <th>0</th>\n",
       "      <td>NaN</td>\n",
       "      <td>0</td>\n",
       "      <td>1</td>\n",
       "      <td>0</td>\n",
       "      <td>0</td>\n",
       "      <td>0</td>\n",
       "      <td>0</td>\n",
       "      <td>0</td>\n",
       "      <td>0</td>\n",
       "      <td>0</td>\n",
       "    </tr>\n",
       "    <tr>\n",
       "      <th>1</th>\n",
       "      <td>3D</td>\n",
       "      <td>0</td>\n",
       "      <td>0</td>\n",
       "      <td>0</td>\n",
       "      <td>0</td>\n",
       "      <td>0</td>\n",
       "      <td>1</td>\n",
       "      <td>0</td>\n",
       "      <td>0</td>\n",
       "      <td>0</td>\n",
       "    </tr>\n",
       "    <tr>\n",
       "      <th>2</th>\n",
       "      <td>3D Printing</td>\n",
       "      <td>0</td>\n",
       "      <td>0</td>\n",
       "      <td>0</td>\n",
       "      <td>0</td>\n",
       "      <td>0</td>\n",
       "      <td>1</td>\n",
       "      <td>0</td>\n",
       "      <td>0</td>\n",
       "      <td>0</td>\n",
       "    </tr>\n",
       "    <tr>\n",
       "      <th>3</th>\n",
       "      <td>3D Technology</td>\n",
       "      <td>0</td>\n",
       "      <td>0</td>\n",
       "      <td>0</td>\n",
       "      <td>0</td>\n",
       "      <td>0</td>\n",
       "      <td>1</td>\n",
       "      <td>0</td>\n",
       "      <td>0</td>\n",
       "      <td>0</td>\n",
       "    </tr>\n",
       "    <tr>\n",
       "      <th>4</th>\n",
       "      <td>Accounting</td>\n",
       "      <td>0</td>\n",
       "      <td>0</td>\n",
       "      <td>0</td>\n",
       "      <td>0</td>\n",
       "      <td>0</td>\n",
       "      <td>0</td>\n",
       "      <td>0</td>\n",
       "      <td>0</td>\n",
       "      <td>1</td>\n",
       "    </tr>\n",
       "  </tbody>\n",
       "</table>\n",
       "</div>"
      ],
      "text/plain": [
       "   category_list  Automotive & Sports  Blanks  Cleantech / Semiconductors  \\\n",
       "0            NaN                    0       1                           0   \n",
       "1             3D                    0       0                           0   \n",
       "2    3D Printing                    0       0                           0   \n",
       "3  3D Technology                    0       0                           0   \n",
       "4     Accounting                    0       0                           0   \n",
       "\n",
       "   Entertainment  Health  Manufacturing  News, Search and Messaging  Others  \\\n",
       "0              0       0              0                           0       0   \n",
       "1              0       0              1                           0       0   \n",
       "2              0       0              1                           0       0   \n",
       "3              0       0              1                           0       0   \n",
       "4              0       0              0                           0       0   \n",
       "\n",
       "   Social, Finance, Analytics, Advertising  \n",
       "0                                        0  \n",
       "1                                        0  \n",
       "2                                        0  \n",
       "3                                        0  \n",
       "4                                        1  "
      ]
     },
     "execution_count": 47,
     "metadata": {},
     "output_type": "execute_result"
    }
   ],
   "source": [
    "#creating a dataframe for the mapping csv\n",
    "mapping = pd.read_csv(\"mapping.csv\", encoding = \"ISO-8859-1\")\n",
    "mapping.head()\n",
    "#it is observed that the category_list contains some incorrect data which needs to be corrected\n",
    "#for example: Analytics is mentioned as A0lytics"
   ]
  },
  {
   "cell_type": "code",
   "execution_count": 48,
   "metadata": {
    "collapsed": true
   },
   "outputs": [],
   "source": [
    "#Checkpoint 4\n",
    "#cleaning data\n",
    "#creating a copy of mapping and operate upon it\n",
    "mapping1 = mapping.copy()"
   ]
  },
  {
   "cell_type": "code",
   "execution_count": 49,
   "metadata": {
    "collapsed": true
   },
   "outputs": [],
   "source": [
    "def rename_cat(cat):\n",
    "    if '0' in str(cat):\n",
    "        return str(cat).replace(\"0\",\"na\")\n",
    "    else:\n",
    "        return str(cat)\n",
    "        \n",
    "#correcting category_list in the copy    \n",
    "\n",
    "mapping1['category_list'] = mapping1['category_list'].apply(rename_cat)\n"
   ]
  },
  {
   "cell_type": "code",
   "execution_count": 50,
   "metadata": {},
   "outputs": [
    {
     "data": {
      "text/html": [
       "<div>\n",
       "<style>\n",
       "    .dataframe thead tr:only-child th {\n",
       "        text-align: right;\n",
       "    }\n",
       "\n",
       "    .dataframe thead th {\n",
       "        text-align: left;\n",
       "    }\n",
       "\n",
       "    .dataframe tbody tr th {\n",
       "        vertical-align: top;\n",
       "    }\n",
       "</style>\n",
       "<table border=\"1\" class=\"dataframe\">\n",
       "  <thead>\n",
       "    <tr style=\"text-align: right;\">\n",
       "      <th></th>\n",
       "      <th>category_list</th>\n",
       "      <th>primary_sector</th>\n",
       "    </tr>\n",
       "  </thead>\n",
       "  <tbody>\n",
       "    <tr>\n",
       "      <th>0</th>\n",
       "      <td>Media</td>\n",
       "      <td>Media</td>\n",
       "    </tr>\n",
       "    <tr>\n",
       "      <th>4</th>\n",
       "      <td>Curated Web</td>\n",
       "      <td>Curated Web</td>\n",
       "    </tr>\n",
       "    <tr>\n",
       "      <th>8</th>\n",
       "      <td>Biotechnology</td>\n",
       "      <td>Biotechnology</td>\n",
       "    </tr>\n",
       "    <tr>\n",
       "      <th>10</th>\n",
       "      <td>Analytics</td>\n",
       "      <td>Analytics</td>\n",
       "    </tr>\n",
       "    <tr>\n",
       "      <th>11</th>\n",
       "      <td>Analytics</td>\n",
       "      <td>Analytics</td>\n",
       "    </tr>\n",
       "  </tbody>\n",
       "</table>\n",
       "</div>"
      ],
      "text/plain": [
       "    category_list primary_sector\n",
       "0           Media          Media\n",
       "4     Curated Web    Curated Web\n",
       "8   Biotechnology  Biotechnology\n",
       "10      Analytics      Analytics\n",
       "11      Analytics      Analytics"
      ]
     },
     "execution_count": 50,
     "metadata": {},
     "output_type": "execute_result"
    }
   ],
   "source": [
    "#creating a function to fetch the primary category for the column category_list\n",
    "def category(category_list):\n",
    "    if '|' in category_list:\n",
    "        primary = category_list.split('|')\n",
    "        return primary[0]\n",
    "    else:\n",
    "        return category_list\n",
    "\n",
    "#adding a new column in venture_companies dataframe with name as primary_category, value of which is arrived by applying category()\n",
    "venture_companies['primary_sector'] = [category(str(x)) for x in venture_companies.category_list]\n",
    "venture_companies[['category_list','primary_sector']].head()"
   ]
  },
  {
   "cell_type": "code",
   "execution_count": 51,
   "metadata": {},
   "outputs": [
    {
     "data": {
      "text/html": [
       "<div>\n",
       "<style>\n",
       "    .dataframe thead tr:only-child th {\n",
       "        text-align: right;\n",
       "    }\n",
       "\n",
       "    .dataframe thead th {\n",
       "        text-align: left;\n",
       "    }\n",
       "\n",
       "    .dataframe tbody tr th {\n",
       "        vertical-align: top;\n",
       "    }\n",
       "</style>\n",
       "<table border=\"1\" class=\"dataframe\">\n",
       "  <thead>\n",
       "    <tr style=\"text-align: right;\">\n",
       "      <th></th>\n",
       "      <th>permalink</th>\n",
       "      <th>name</th>\n",
       "      <th>category_list</th>\n",
       "      <th>status</th>\n",
       "      <th>country_code</th>\n",
       "      <th>funding_round_permalink</th>\n",
       "      <th>funding_round_type</th>\n",
       "      <th>funded_at</th>\n",
       "      <th>raised_amount_usd</th>\n",
       "      <th>primary_sector</th>\n",
       "    </tr>\n",
       "  </thead>\n",
       "  <tbody>\n",
       "    <tr>\n",
       "      <th>0</th>\n",
       "      <td>/ORGANIZATION/-FAME</td>\n",
       "      <td>#fame</td>\n",
       "      <td>Media</td>\n",
       "      <td>operating</td>\n",
       "      <td>IND</td>\n",
       "      <td>/funding-round/9a01d05418af9f794eebff7ace91f638</td>\n",
       "      <td>venture</td>\n",
       "      <td>05-01-2015</td>\n",
       "      <td>10000000.0</td>\n",
       "      <td>Media</td>\n",
       "    </tr>\n",
       "    <tr>\n",
       "      <th>4</th>\n",
       "      <td>/ORGANIZATION/0-6-COM</td>\n",
       "      <td>0-6.com</td>\n",
       "      <td>Curated Web</td>\n",
       "      <td>operating</td>\n",
       "      <td>CHN</td>\n",
       "      <td>/funding-round/5727accaeaa57461bd22a9bdd945382d</td>\n",
       "      <td>venture</td>\n",
       "      <td>19-03-2008</td>\n",
       "      <td>2000000.0</td>\n",
       "      <td>Curated Web</td>\n",
       "    </tr>\n",
       "  </tbody>\n",
       "</table>\n",
       "</div>"
      ],
      "text/plain": [
       "               permalink     name category_list     status country_code  \\\n",
       "0    /ORGANIZATION/-FAME    #fame         Media  operating          IND   \n",
       "4  /ORGANIZATION/0-6-COM  0-6.com   Curated Web  operating          CHN   \n",
       "\n",
       "                           funding_round_permalink funding_round_type  \\\n",
       "0  /funding-round/9a01d05418af9f794eebff7ace91f638            venture   \n",
       "4  /funding-round/5727accaeaa57461bd22a9bdd945382d            venture   \n",
       "\n",
       "    funded_at  raised_amount_usd primary_sector  \n",
       "0  05-01-2015         10000000.0          Media  \n",
       "4  19-03-2008          2000000.0    Curated Web  "
      ]
     },
     "execution_count": 51,
     "metadata": {},
     "output_type": "execute_result"
    }
   ],
   "source": [
    "venture_companies.head(2)"
   ]
  },
  {
   "cell_type": "code",
   "execution_count": 52,
   "metadata": {},
   "outputs": [
    {
     "name": "stdout",
     "output_type": "stream",
     "text": [
      "{1: 'Automotive & Sports', 2: 'Blanks', 3: 'Cleantech / Semiconductors', 4: 'Entertainment', 5: 'Health', 6: 'Manufacturing', 7: 'News, Search and Messaging', 8: 'Others', 9: 'Social, Finance, Analytics, Advertising'}\n"
     ]
    }
   ],
   "source": [
    "#creating a dictionary for mapping sectors\n",
    "col_mapping = mapping.columns\n",
    "\n",
    "col_map_dict = {}\n",
    "for i in range(1,len(col_mapping)):\n",
    "    col_map_dict[i] = col_mapping[i]\n",
    "\n",
    "print(col_map_dict)"
   ]
  },
  {
   "cell_type": "code",
   "execution_count": 53,
   "metadata": {},
   "outputs": [
    {
     "data": {
      "text/html": [
       "<div>\n",
       "<style>\n",
       "    .dataframe thead tr:only-child th {\n",
       "        text-align: right;\n",
       "    }\n",
       "\n",
       "    .dataframe thead th {\n",
       "        text-align: left;\n",
       "    }\n",
       "\n",
       "    .dataframe tbody tr th {\n",
       "        vertical-align: top;\n",
       "    }\n",
       "</style>\n",
       "<table border=\"1\" class=\"dataframe\">\n",
       "  <thead>\n",
       "    <tr style=\"text-align: right;\">\n",
       "      <th></th>\n",
       "      <th>category_list</th>\n",
       "      <th>main_sector</th>\n",
       "    </tr>\n",
       "  </thead>\n",
       "  <tbody>\n",
       "    <tr>\n",
       "      <th>0</th>\n",
       "      <td>nan</td>\n",
       "      <td>Blanks</td>\n",
       "    </tr>\n",
       "    <tr>\n",
       "      <th>1</th>\n",
       "      <td>3D</td>\n",
       "      <td>Manufacturing</td>\n",
       "    </tr>\n",
       "    <tr>\n",
       "      <th>2</th>\n",
       "      <td>3D Printing</td>\n",
       "      <td>Manufacturing</td>\n",
       "    </tr>\n",
       "    <tr>\n",
       "      <th>3</th>\n",
       "      <td>3D Technology</td>\n",
       "      <td>Manufacturing</td>\n",
       "    </tr>\n",
       "    <tr>\n",
       "      <th>4</th>\n",
       "      <td>Accounting</td>\n",
       "      <td>Social, Finance, Analytics, Advertising</td>\n",
       "    </tr>\n",
       "  </tbody>\n",
       "</table>\n",
       "</div>"
      ],
      "text/plain": [
       "   category_list                              main_sector\n",
       "0            nan                                   Blanks\n",
       "1             3D                            Manufacturing\n",
       "2    3D Printing                            Manufacturing\n",
       "3  3D Technology                            Manufacturing\n",
       "4     Accounting  Social, Finance, Analytics, Advertising"
      ]
     },
     "execution_count": 53,
     "metadata": {},
     "output_type": "execute_result"
    }
   ],
   "source": [
    "# to map each row with primary sector\n",
    "# creating a (m*n) array from mapping df\n",
    "a = mapping1.iloc[:,1:10]\n",
    "A = np.array(a)\n",
    "#creating a one dimensional array with keys corresponding to the sector values, so that it can be mapped using the dictionary \n",
    "#creted above\n",
    "B= np.arange(1,10)\n",
    "\n",
    "#performing dot product of two array, resultant will be a (m*1) array with each row having key value of the sector\n",
    "psec = np.dot(A,B)\n",
    "\n",
    "#performing reverse mapping of key values to get the sector names saving it as a list\n",
    "psec_mapped_list = [col_map_dict.get(x) for x in list(psec)]\n",
    "\n",
    "#adding new column named 'primary_sector' \n",
    "mapping1['main_sector'] =(psec_mapped_list)\n",
    "\n",
    "\n",
    "#creating a new dataframe with category_list and primary_sector which can be merges with venture_companies \n",
    "mapping_prim_sec = mapping1[['category_list','main_sector']]\n",
    "mapping_prim_sec.head()"
   ]
  },
  {
   "cell_type": "code",
   "execution_count": 54,
   "metadata": {
    "collapsed": true
   },
   "outputs": [],
   "source": [
    "#merging venture_companies with mapping_prim_sec dataframes, new dataframe will contain primary_sector as a separate column\n",
    "\n",
    "venture_comp_sector_mapped = pd.merge(venture_companies,mapping_prim_sec, how = 'left', left_on = 'primary_sector', right_on='category_list')\n"
   ]
  },
  {
   "cell_type": "code",
   "execution_count": 55,
   "metadata": {},
   "outputs": [
    {
     "data": {
      "text/html": [
       "<div>\n",
       "<style>\n",
       "    .dataframe thead tr:only-child th {\n",
       "        text-align: right;\n",
       "    }\n",
       "\n",
       "    .dataframe thead th {\n",
       "        text-align: left;\n",
       "    }\n",
       "\n",
       "    .dataframe tbody tr th {\n",
       "        vertical-align: top;\n",
       "    }\n",
       "</style>\n",
       "<table border=\"1\" class=\"dataframe\">\n",
       "  <thead>\n",
       "    <tr style=\"text-align: right;\">\n",
       "      <th></th>\n",
       "      <th>permalink</th>\n",
       "      <th>name</th>\n",
       "      <th>category_list_x</th>\n",
       "      <th>status</th>\n",
       "      <th>country_code</th>\n",
       "      <th>funding_round_permalink</th>\n",
       "      <th>funding_round_type</th>\n",
       "      <th>funded_at</th>\n",
       "      <th>raised_amount_usd</th>\n",
       "      <th>primary_sector</th>\n",
       "      <th>category_list_y</th>\n",
       "      <th>main_sector</th>\n",
       "    </tr>\n",
       "  </thead>\n",
       "  <tbody>\n",
       "    <tr>\n",
       "      <th>0</th>\n",
       "      <td>/ORGANIZATION/-FAME</td>\n",
       "      <td>#fame</td>\n",
       "      <td>Media</td>\n",
       "      <td>operating</td>\n",
       "      <td>IND</td>\n",
       "      <td>/funding-round/9a01d05418af9f794eebff7ace91f638</td>\n",
       "      <td>venture</td>\n",
       "      <td>05-01-2015</td>\n",
       "      <td>10000000.0</td>\n",
       "      <td>Media</td>\n",
       "      <td>Media</td>\n",
       "      <td>Entertainment</td>\n",
       "    </tr>\n",
       "    <tr>\n",
       "      <th>1</th>\n",
       "      <td>/ORGANIZATION/0-6-COM</td>\n",
       "      <td>0-6.com</td>\n",
       "      <td>Curated Web</td>\n",
       "      <td>operating</td>\n",
       "      <td>CHN</td>\n",
       "      <td>/funding-round/5727accaeaa57461bd22a9bdd945382d</td>\n",
       "      <td>venture</td>\n",
       "      <td>19-03-2008</td>\n",
       "      <td>2000000.0</td>\n",
       "      <td>Curated Web</td>\n",
       "      <td>Curated Web</td>\n",
       "      <td>News, Search and Messaging</td>\n",
       "    </tr>\n",
       "    <tr>\n",
       "      <th>2</th>\n",
       "      <td>/ORGANIZATION/0NDINE-BIOMEDICAL-INC</td>\n",
       "      <td>Ondine Biomedical Inc.</td>\n",
       "      <td>Biotechnology</td>\n",
       "      <td>operating</td>\n",
       "      <td>CAN</td>\n",
       "      <td>/funding-round/954b9499724b946ad8c396a57a5f3b72</td>\n",
       "      <td>venture</td>\n",
       "      <td>21-12-2009</td>\n",
       "      <td>719491.0</td>\n",
       "      <td>Biotechnology</td>\n",
       "      <td>Biotechnology</td>\n",
       "      <td>Cleantech / Semiconductors</td>\n",
       "    </tr>\n",
       "    <tr>\n",
       "      <th>3</th>\n",
       "      <td>/ORGANIZATION/0XDATA</td>\n",
       "      <td>H2O.ai</td>\n",
       "      <td>Analytics</td>\n",
       "      <td>operating</td>\n",
       "      <td>USA</td>\n",
       "      <td>/funding-round/3bb2ee4a2d89251a10aaa735b1180e44</td>\n",
       "      <td>venture</td>\n",
       "      <td>09-11-2015</td>\n",
       "      <td>20000000.0</td>\n",
       "      <td>Analytics</td>\n",
       "      <td>Analytics</td>\n",
       "      <td>Social, Finance, Analytics, Advertising</td>\n",
       "    </tr>\n",
       "    <tr>\n",
       "      <th>4</th>\n",
       "      <td>/ORGANIZATION/0XDATA</td>\n",
       "      <td>H2O.ai</td>\n",
       "      <td>Analytics</td>\n",
       "      <td>operating</td>\n",
       "      <td>USA</td>\n",
       "      <td>/funding-round/ae2a174c06517c2394aed45006322a7e</td>\n",
       "      <td>venture</td>\n",
       "      <td>03-01-2013</td>\n",
       "      <td>1700000.0</td>\n",
       "      <td>Analytics</td>\n",
       "      <td>Analytics</td>\n",
       "      <td>Social, Finance, Analytics, Advertising</td>\n",
       "    </tr>\n",
       "  </tbody>\n",
       "</table>\n",
       "</div>"
      ],
      "text/plain": [
       "                             permalink                    name  \\\n",
       "0                  /ORGANIZATION/-FAME                   #fame   \n",
       "1                /ORGANIZATION/0-6-COM                 0-6.com   \n",
       "2  /ORGANIZATION/0NDINE-BIOMEDICAL-INC  Ondine Biomedical Inc.   \n",
       "3                 /ORGANIZATION/0XDATA                  H2O.ai   \n",
       "4                 /ORGANIZATION/0XDATA                  H2O.ai   \n",
       "\n",
       "  category_list_x     status country_code  \\\n",
       "0           Media  operating          IND   \n",
       "1     Curated Web  operating          CHN   \n",
       "2   Biotechnology  operating          CAN   \n",
       "3       Analytics  operating          USA   \n",
       "4       Analytics  operating          USA   \n",
       "\n",
       "                           funding_round_permalink funding_round_type  \\\n",
       "0  /funding-round/9a01d05418af9f794eebff7ace91f638            venture   \n",
       "1  /funding-round/5727accaeaa57461bd22a9bdd945382d            venture   \n",
       "2  /funding-round/954b9499724b946ad8c396a57a5f3b72            venture   \n",
       "3  /funding-round/3bb2ee4a2d89251a10aaa735b1180e44            venture   \n",
       "4  /funding-round/ae2a174c06517c2394aed45006322a7e            venture   \n",
       "\n",
       "    funded_at  raised_amount_usd primary_sector category_list_y  \\\n",
       "0  05-01-2015         10000000.0          Media           Media   \n",
       "1  19-03-2008          2000000.0    Curated Web     Curated Web   \n",
       "2  21-12-2009           719491.0  Biotechnology   Biotechnology   \n",
       "3  09-11-2015         20000000.0      Analytics       Analytics   \n",
       "4  03-01-2013          1700000.0      Analytics       Analytics   \n",
       "\n",
       "                               main_sector  \n",
       "0                            Entertainment  \n",
       "1               News, Search and Messaging  \n",
       "2               Cleantech / Semiconductors  \n",
       "3  Social, Finance, Analytics, Advertising  \n",
       "4  Social, Finance, Analytics, Advertising  "
      ]
     },
     "execution_count": 55,
     "metadata": {},
     "output_type": "execute_result"
    }
   ],
   "source": [
    "#viewing dataframe after merge\n",
    "venture_comp_sector_mapped.head(5)"
   ]
  },
  {
   "cell_type": "code",
   "execution_count": 56,
   "metadata": {
    "scrolled": true
   },
   "outputs": [
    {
     "data": {
      "text/html": [
       "<div>\n",
       "<style>\n",
       "    .dataframe thead tr:only-child th {\n",
       "        text-align: right;\n",
       "    }\n",
       "\n",
       "    .dataframe thead th {\n",
       "        text-align: left;\n",
       "    }\n",
       "\n",
       "    .dataframe tbody tr th {\n",
       "        vertical-align: top;\n",
       "    }\n",
       "</style>\n",
       "<table border=\"1\" class=\"dataframe\">\n",
       "  <thead>\n",
       "    <tr style=\"text-align: right;\">\n",
       "      <th></th>\n",
       "      <th>permalink</th>\n",
       "      <th>name</th>\n",
       "      <th>category_list_x</th>\n",
       "      <th>status</th>\n",
       "      <th>country_code</th>\n",
       "      <th>funding_round_permalink</th>\n",
       "      <th>funding_round_type</th>\n",
       "      <th>funded_at</th>\n",
       "      <th>raised_amount_usd</th>\n",
       "      <th>primary_sector</th>\n",
       "      <th>main_sector</th>\n",
       "    </tr>\n",
       "  </thead>\n",
       "  <tbody>\n",
       "    <tr>\n",
       "      <th>0</th>\n",
       "      <td>/ORGANIZATION/-FAME</td>\n",
       "      <td>#fame</td>\n",
       "      <td>Media</td>\n",
       "      <td>operating</td>\n",
       "      <td>IND</td>\n",
       "      <td>/funding-round/9a01d05418af9f794eebff7ace91f638</td>\n",
       "      <td>venture</td>\n",
       "      <td>05-01-2015</td>\n",
       "      <td>10000000.0</td>\n",
       "      <td>Media</td>\n",
       "      <td>Entertainment</td>\n",
       "    </tr>\n",
       "    <tr>\n",
       "      <th>1</th>\n",
       "      <td>/ORGANIZATION/0-6-COM</td>\n",
       "      <td>0-6.com</td>\n",
       "      <td>Curated Web</td>\n",
       "      <td>operating</td>\n",
       "      <td>CHN</td>\n",
       "      <td>/funding-round/5727accaeaa57461bd22a9bdd945382d</td>\n",
       "      <td>venture</td>\n",
       "      <td>19-03-2008</td>\n",
       "      <td>2000000.0</td>\n",
       "      <td>Curated Web</td>\n",
       "      <td>News, Search and Messaging</td>\n",
       "    </tr>\n",
       "    <tr>\n",
       "      <th>2</th>\n",
       "      <td>/ORGANIZATION/0NDINE-BIOMEDICAL-INC</td>\n",
       "      <td>Ondine Biomedical Inc.</td>\n",
       "      <td>Biotechnology</td>\n",
       "      <td>operating</td>\n",
       "      <td>CAN</td>\n",
       "      <td>/funding-round/954b9499724b946ad8c396a57a5f3b72</td>\n",
       "      <td>venture</td>\n",
       "      <td>21-12-2009</td>\n",
       "      <td>719491.0</td>\n",
       "      <td>Biotechnology</td>\n",
       "      <td>Cleantech / Semiconductors</td>\n",
       "    </tr>\n",
       "    <tr>\n",
       "      <th>3</th>\n",
       "      <td>/ORGANIZATION/0XDATA</td>\n",
       "      <td>H2O.ai</td>\n",
       "      <td>Analytics</td>\n",
       "      <td>operating</td>\n",
       "      <td>USA</td>\n",
       "      <td>/funding-round/3bb2ee4a2d89251a10aaa735b1180e44</td>\n",
       "      <td>venture</td>\n",
       "      <td>09-11-2015</td>\n",
       "      <td>20000000.0</td>\n",
       "      <td>Analytics</td>\n",
       "      <td>Social, Finance, Analytics, Advertising</td>\n",
       "    </tr>\n",
       "    <tr>\n",
       "      <th>4</th>\n",
       "      <td>/ORGANIZATION/0XDATA</td>\n",
       "      <td>H2O.ai</td>\n",
       "      <td>Analytics</td>\n",
       "      <td>operating</td>\n",
       "      <td>USA</td>\n",
       "      <td>/funding-round/ae2a174c06517c2394aed45006322a7e</td>\n",
       "      <td>venture</td>\n",
       "      <td>03-01-2013</td>\n",
       "      <td>1700000.0</td>\n",
       "      <td>Analytics</td>\n",
       "      <td>Social, Finance, Analytics, Advertising</td>\n",
       "    </tr>\n",
       "  </tbody>\n",
       "</table>\n",
       "</div>"
      ],
      "text/plain": [
       "                             permalink                    name  \\\n",
       "0                  /ORGANIZATION/-FAME                   #fame   \n",
       "1                /ORGANIZATION/0-6-COM                 0-6.com   \n",
       "2  /ORGANIZATION/0NDINE-BIOMEDICAL-INC  Ondine Biomedical Inc.   \n",
       "3                 /ORGANIZATION/0XDATA                  H2O.ai   \n",
       "4                 /ORGANIZATION/0XDATA                  H2O.ai   \n",
       "\n",
       "  category_list_x     status country_code  \\\n",
       "0           Media  operating          IND   \n",
       "1     Curated Web  operating          CHN   \n",
       "2   Biotechnology  operating          CAN   \n",
       "3       Analytics  operating          USA   \n",
       "4       Analytics  operating          USA   \n",
       "\n",
       "                           funding_round_permalink funding_round_type  \\\n",
       "0  /funding-round/9a01d05418af9f794eebff7ace91f638            venture   \n",
       "1  /funding-round/5727accaeaa57461bd22a9bdd945382d            venture   \n",
       "2  /funding-round/954b9499724b946ad8c396a57a5f3b72            venture   \n",
       "3  /funding-round/3bb2ee4a2d89251a10aaa735b1180e44            venture   \n",
       "4  /funding-round/ae2a174c06517c2394aed45006322a7e            venture   \n",
       "\n",
       "    funded_at  raised_amount_usd primary_sector  \\\n",
       "0  05-01-2015         10000000.0          Media   \n",
       "1  19-03-2008          2000000.0    Curated Web   \n",
       "2  21-12-2009           719491.0  Biotechnology   \n",
       "3  09-11-2015         20000000.0      Analytics   \n",
       "4  03-01-2013          1700000.0      Analytics   \n",
       "\n",
       "                               main_sector  \n",
       "0                            Entertainment  \n",
       "1               News, Search and Messaging  \n",
       "2               Cleantech / Semiconductors  \n",
       "3  Social, Finance, Analytics, Advertising  \n",
       "4  Social, Finance, Analytics, Advertising  "
      ]
     },
     "execution_count": 56,
     "metadata": {},
     "output_type": "execute_result"
    }
   ],
   "source": [
    "#primary_sector and category_list_y are two columns with same value. deleting the columns category_list_y from the df\n",
    "del venture_comp_sector_mapped['category_list_y']\n",
    "\n",
    "venture_comp_sector_mapped.head() ## checkpoint 4"
   ]
  },
  {
   "cell_type": "code",
   "execution_count": 57,
   "metadata": {},
   "outputs": [
    {
     "data": {
      "text/html": [
       "<div>\n",
       "<style>\n",
       "    .dataframe thead tr:only-child th {\n",
       "        text-align: right;\n",
       "    }\n",
       "\n",
       "    .dataframe thead th {\n",
       "        text-align: left;\n",
       "    }\n",
       "\n",
       "    .dataframe tbody tr th {\n",
       "        vertical-align: top;\n",
       "    }\n",
       "</style>\n",
       "<table border=\"1\" class=\"dataframe\">\n",
       "  <thead>\n",
       "    <tr style=\"text-align: right;\">\n",
       "      <th></th>\n",
       "      <th>permalink</th>\n",
       "      <th>name</th>\n",
       "      <th>category_list_x</th>\n",
       "      <th>status</th>\n",
       "      <th>country_code</th>\n",
       "      <th>funding_round_permalink</th>\n",
       "      <th>funding_round_type</th>\n",
       "      <th>funded_at</th>\n",
       "      <th>raised_amount_usd</th>\n",
       "      <th>primary_sector</th>\n",
       "      <th>main_sector</th>\n",
       "    </tr>\n",
       "  </thead>\n",
       "  <tbody>\n",
       "    <tr>\n",
       "      <th>5</th>\n",
       "      <td>/ORGANIZATION/0XDATA</td>\n",
       "      <td>H2O.ai</td>\n",
       "      <td>Analytics</td>\n",
       "      <td>operating</td>\n",
       "      <td>USA</td>\n",
       "      <td>/funding-round/e1cfcbe1bdf4c70277c5f29a3482f24e</td>\n",
       "      <td>venture</td>\n",
       "      <td>19-07-2014</td>\n",
       "      <td>8900000.0</td>\n",
       "      <td>Analytics</td>\n",
       "      <td>Social, Finance, Analytics, Advertising</td>\n",
       "    </tr>\n",
       "    <tr>\n",
       "      <th>6</th>\n",
       "      <td>/ORGANIZATION/1-MAINSTREAM</td>\n",
       "      <td>1 Mainstream</td>\n",
       "      <td>Apps|Cable|Distribution|Software</td>\n",
       "      <td>acquired</td>\n",
       "      <td>USA</td>\n",
       "      <td>/funding-round/b952cbaf401f310927430c97b68162ea</td>\n",
       "      <td>venture</td>\n",
       "      <td>17-03-2015</td>\n",
       "      <td>5000000.0</td>\n",
       "      <td>Apps</td>\n",
       "      <td>News, Search and Messaging</td>\n",
       "    </tr>\n",
       "    <tr>\n",
       "      <th>30</th>\n",
       "      <td>/ORGANIZATION/128-TECHNOLOGY</td>\n",
       "      <td>128 Technology</td>\n",
       "      <td>Service Providers|Technology</td>\n",
       "      <td>operating</td>\n",
       "      <td>USA</td>\n",
       "      <td>/funding-round/fb6216a30cb566ede89e0bee0623a634</td>\n",
       "      <td>venture</td>\n",
       "      <td>16-12-2014</td>\n",
       "      <td>11999347.0</td>\n",
       "      <td>Service Providers</td>\n",
       "      <td>Others</td>\n",
       "    </tr>\n",
       "    <tr>\n",
       "      <th>34</th>\n",
       "      <td>/ORGANIZATION/1366-TECHNOLOGIES</td>\n",
       "      <td>1366 Technologies</td>\n",
       "      <td>Manufacturing</td>\n",
       "      <td>operating</td>\n",
       "      <td>USA</td>\n",
       "      <td>/funding-round/424129ce1235cfab2655ee81305f7c2b</td>\n",
       "      <td>venture</td>\n",
       "      <td>15-10-2013</td>\n",
       "      <td>15000000.0</td>\n",
       "      <td>Manufacturing</td>\n",
       "      <td>Manufacturing</td>\n",
       "    </tr>\n",
       "    <tr>\n",
       "      <th>35</th>\n",
       "      <td>/ORGANIZATION/1366-TECHNOLOGIES</td>\n",
       "      <td>1366 Technologies</td>\n",
       "      <td>Manufacturing</td>\n",
       "      <td>operating</td>\n",
       "      <td>USA</td>\n",
       "      <td>/funding-round/6d3f3797371956ece035b8478c1441b2</td>\n",
       "      <td>venture</td>\n",
       "      <td>09-04-2015</td>\n",
       "      <td>5000000.0</td>\n",
       "      <td>Manufacturing</td>\n",
       "      <td>Manufacturing</td>\n",
       "    </tr>\n",
       "  </tbody>\n",
       "</table>\n",
       "</div>"
      ],
      "text/plain": [
       "                          permalink               name  \\\n",
       "5              /ORGANIZATION/0XDATA             H2O.ai   \n",
       "6        /ORGANIZATION/1-MAINSTREAM       1 Mainstream   \n",
       "30     /ORGANIZATION/128-TECHNOLOGY     128 Technology   \n",
       "34  /ORGANIZATION/1366-TECHNOLOGIES  1366 Technologies   \n",
       "35  /ORGANIZATION/1366-TECHNOLOGIES  1366 Technologies   \n",
       "\n",
       "                     category_list_x     status country_code  \\\n",
       "5                          Analytics  operating          USA   \n",
       "6   Apps|Cable|Distribution|Software   acquired          USA   \n",
       "30      Service Providers|Technology  operating          USA   \n",
       "34                     Manufacturing  operating          USA   \n",
       "35                     Manufacturing  operating          USA   \n",
       "\n",
       "                            funding_round_permalink funding_round_type  \\\n",
       "5   /funding-round/e1cfcbe1bdf4c70277c5f29a3482f24e            venture   \n",
       "6   /funding-round/b952cbaf401f310927430c97b68162ea            venture   \n",
       "30  /funding-round/fb6216a30cb566ede89e0bee0623a634            venture   \n",
       "34  /funding-round/424129ce1235cfab2655ee81305f7c2b            venture   \n",
       "35  /funding-round/6d3f3797371956ece035b8478c1441b2            venture   \n",
       "\n",
       "     funded_at  raised_amount_usd     primary_sector  \\\n",
       "5   19-07-2014          8900000.0          Analytics   \n",
       "6   17-03-2015          5000000.0               Apps   \n",
       "30  16-12-2014         11999347.0  Service Providers   \n",
       "34  15-10-2013         15000000.0      Manufacturing   \n",
       "35  09-04-2015          5000000.0      Manufacturing   \n",
       "\n",
       "                                main_sector  \n",
       "5   Social, Finance, Analytics, Advertising  \n",
       "6                News, Search and Messaging  \n",
       "30                                   Others  \n",
       "34                            Manufacturing  \n",
       "35                            Manufacturing  "
      ]
     },
     "execution_count": 57,
     "metadata": {},
     "output_type": "execute_result"
    }
   ],
   "source": [
    "#Checkpoint 5 \n",
    "#creation of dataframes D1, D2, D3 with funding amount in range of 5M to 15M USD\n",
    "d1 = venture_comp_sector_mapped.loc[(venture_comp_sector_mapped['country_code']== country_1)&\n",
    "                                    (venture_comp_sector_mapped['raised_amount_usd'] <= 15000000)&\n",
    "                                   (venture_comp_sector_mapped['raised_amount_usd'] >= 5000000)]\n",
    "d1.head()"
   ]
  },
  {
   "cell_type": "code",
   "execution_count": 58,
   "metadata": {
    "collapsed": true
   },
   "outputs": [],
   "source": [
    "#D1 count and sum per main_sector\n",
    "D1_count_main_sector = d1.groupby('main_sector')\n",
    "D1_count = pd.DataFrame(D1_count_main_sector['permalink'].count())\n",
    "D1_count.reset_index(inplace = True)\n",
    "\n",
    "D1_sum = pd.DataFrame(D1_count_main_sector['raised_amount_usd'].sum())\n",
    "D1_sum.reset_index(inplace = True)\n",
    "\n",
    "D1_add = pd.merge(D1_count, D1_sum, how = 'inner', on = 'main_sector')\n",
    "\n",
    "D1_add.columns=['main_sector','count_per_sector','total_investment_per_sector']\n"
   ]
  },
  {
   "cell_type": "code",
   "execution_count": 59,
   "metadata": {},
   "outputs": [
    {
     "data": {
      "text/html": [
       "<div>\n",
       "<style>\n",
       "    .dataframe thead tr:only-child th {\n",
       "        text-align: right;\n",
       "    }\n",
       "\n",
       "    .dataframe thead th {\n",
       "        text-align: left;\n",
       "    }\n",
       "\n",
       "    .dataframe tbody tr th {\n",
       "        vertical-align: top;\n",
       "    }\n",
       "</style>\n",
       "<table border=\"1\" class=\"dataframe\">\n",
       "  <thead>\n",
       "    <tr style=\"text-align: right;\">\n",
       "      <th></th>\n",
       "      <th>permalink</th>\n",
       "      <th>name</th>\n",
       "      <th>category_list_x</th>\n",
       "      <th>status</th>\n",
       "      <th>country_code</th>\n",
       "      <th>funding_round_permalink</th>\n",
       "      <th>funding_round_type</th>\n",
       "      <th>funded_at</th>\n",
       "      <th>raised_amount_usd</th>\n",
       "      <th>primary_sector</th>\n",
       "      <th>main_sector</th>\n",
       "      <th>count_per_sector</th>\n",
       "      <th>total_investment_per_sector</th>\n",
       "    </tr>\n",
       "  </thead>\n",
       "  <tbody>\n",
       "    <tr>\n",
       "      <th>0</th>\n",
       "      <td>/ORGANIZATION/0XDATA</td>\n",
       "      <td>H2O.ai</td>\n",
       "      <td>Analytics</td>\n",
       "      <td>operating</td>\n",
       "      <td>USA</td>\n",
       "      <td>/funding-round/e1cfcbe1bdf4c70277c5f29a3482f24e</td>\n",
       "      <td>venture</td>\n",
       "      <td>19-07-2014</td>\n",
       "      <td>8900000.0</td>\n",
       "      <td>Analytics</td>\n",
       "      <td>Social, Finance, Analytics, Advertising</td>\n",
       "      <td>2714</td>\n",
       "      <td>2.380738e+10</td>\n",
       "    </tr>\n",
       "    <tr>\n",
       "      <th>1</th>\n",
       "      <td>/ORGANIZATION/21E6</td>\n",
       "      <td>21 Inc</td>\n",
       "      <td>Big Data|Bitcoin|Hardware + Software|Technology</td>\n",
       "      <td>operating</td>\n",
       "      <td>USA</td>\n",
       "      <td>/funding-round/bdf9f5bf67ee51155eae223acac57ec5</td>\n",
       "      <td>venture</td>\n",
       "      <td>17-11-2013</td>\n",
       "      <td>5050000.0</td>\n",
       "      <td>Big Data</td>\n",
       "      <td>Social, Finance, Analytics, Advertising</td>\n",
       "      <td>2714</td>\n",
       "      <td>2.380738e+10</td>\n",
       "    </tr>\n",
       "    <tr>\n",
       "      <th>2</th>\n",
       "      <td>/ORGANIZATION/33ACROSS</td>\n",
       "      <td>33Across</td>\n",
       "      <td>Advertising|Advertising Platforms|Content Disc...</td>\n",
       "      <td>operating</td>\n",
       "      <td>USA</td>\n",
       "      <td>/funding-round/a45d977b48cb54216eb705d59b24ca19</td>\n",
       "      <td>venture</td>\n",
       "      <td>19-07-2012</td>\n",
       "      <td>13100000.0</td>\n",
       "      <td>Advertising</td>\n",
       "      <td>Social, Finance, Analytics, Advertising</td>\n",
       "      <td>2714</td>\n",
       "      <td>2.380738e+10</td>\n",
       "    </tr>\n",
       "    <tr>\n",
       "      <th>3</th>\n",
       "      <td>/ORGANIZATION/33ACROSS</td>\n",
       "      <td>33Across</td>\n",
       "      <td>Advertising|Advertising Platforms|Content Disc...</td>\n",
       "      <td>operating</td>\n",
       "      <td>USA</td>\n",
       "      <td>/funding-round/bfc2233768b7c79ed58ad7561423e555</td>\n",
       "      <td>venture</td>\n",
       "      <td>05-01-2011</td>\n",
       "      <td>9000000.0</td>\n",
       "      <td>Advertising</td>\n",
       "      <td>Social, Finance, Analytics, Advertising</td>\n",
       "      <td>2714</td>\n",
       "      <td>2.380738e+10</td>\n",
       "    </tr>\n",
       "    <tr>\n",
       "      <th>4</th>\n",
       "      <td>/ORGANIZATION/360COMMERCE</td>\n",
       "      <td>360Commerce</td>\n",
       "      <td>Information Technology|Retail|Software</td>\n",
       "      <td>acquired</td>\n",
       "      <td>USA</td>\n",
       "      <td>/funding-round/1c51042e815e96ed2653ae9ced99dfc4</td>\n",
       "      <td>venture</td>\n",
       "      <td>29-10-2003</td>\n",
       "      <td>12000000.0</td>\n",
       "      <td>Information Technology</td>\n",
       "      <td>Social, Finance, Analytics, Advertising</td>\n",
       "      <td>2714</td>\n",
       "      <td>2.380738e+10</td>\n",
       "    </tr>\n",
       "  </tbody>\n",
       "</table>\n",
       "</div>"
      ],
      "text/plain": [
       "                   permalink         name  \\\n",
       "0       /ORGANIZATION/0XDATA       H2O.ai   \n",
       "1         /ORGANIZATION/21E6       21 Inc   \n",
       "2     /ORGANIZATION/33ACROSS     33Across   \n",
       "3     /ORGANIZATION/33ACROSS     33Across   \n",
       "4  /ORGANIZATION/360COMMERCE  360Commerce   \n",
       "\n",
       "                                     category_list_x     status country_code  \\\n",
       "0                                          Analytics  operating          USA   \n",
       "1    Big Data|Bitcoin|Hardware + Software|Technology  operating          USA   \n",
       "2  Advertising|Advertising Platforms|Content Disc...  operating          USA   \n",
       "3  Advertising|Advertising Platforms|Content Disc...  operating          USA   \n",
       "4             Information Technology|Retail|Software   acquired          USA   \n",
       "\n",
       "                           funding_round_permalink funding_round_type  \\\n",
       "0  /funding-round/e1cfcbe1bdf4c70277c5f29a3482f24e            venture   \n",
       "1  /funding-round/bdf9f5bf67ee51155eae223acac57ec5            venture   \n",
       "2  /funding-round/a45d977b48cb54216eb705d59b24ca19            venture   \n",
       "3  /funding-round/bfc2233768b7c79ed58ad7561423e555            venture   \n",
       "4  /funding-round/1c51042e815e96ed2653ae9ced99dfc4            venture   \n",
       "\n",
       "    funded_at  raised_amount_usd          primary_sector  \\\n",
       "0  19-07-2014          8900000.0               Analytics   \n",
       "1  17-11-2013          5050000.0                Big Data   \n",
       "2  19-07-2012         13100000.0             Advertising   \n",
       "3  05-01-2011          9000000.0             Advertising   \n",
       "4  29-10-2003         12000000.0  Information Technology   \n",
       "\n",
       "                               main_sector  count_per_sector  \\\n",
       "0  Social, Finance, Analytics, Advertising              2714   \n",
       "1  Social, Finance, Analytics, Advertising              2714   \n",
       "2  Social, Finance, Analytics, Advertising              2714   \n",
       "3  Social, Finance, Analytics, Advertising              2714   \n",
       "4  Social, Finance, Analytics, Advertising              2714   \n",
       "\n",
       "   total_investment_per_sector  \n",
       "0                 2.380738e+10  \n",
       "1                 2.380738e+10  \n",
       "2                 2.380738e+10  \n",
       "3                 2.380738e+10  \n",
       "4                 2.380738e+10  "
      ]
     },
     "execution_count": 59,
     "metadata": {},
     "output_type": "execute_result"
    }
   ],
   "source": [
    "#merge with d1\n",
    "\n",
    "D1 = pd.merge(d1, D1_add, how = 'inner', on = 'main_sector')\n",
    "#D1.to_csv(\"F:/Course/EDA/Project/D1.csv\")\n",
    "D1.head()"
   ]
  },
  {
   "cell_type": "code",
   "execution_count": 60,
   "metadata": {},
   "outputs": [
    {
     "data": {
      "text/html": [
       "<div>\n",
       "<style>\n",
       "    .dataframe thead tr:only-child th {\n",
       "        text-align: right;\n",
       "    }\n",
       "\n",
       "    .dataframe thead th {\n",
       "        text-align: left;\n",
       "    }\n",
       "\n",
       "    .dataframe tbody tr th {\n",
       "        vertical-align: top;\n",
       "    }\n",
       "</style>\n",
       "<table border=\"1\" class=\"dataframe\">\n",
       "  <thead>\n",
       "    <tr style=\"text-align: right;\">\n",
       "      <th></th>\n",
       "      <th>permalink</th>\n",
       "      <th>name</th>\n",
       "      <th>category_list_x</th>\n",
       "      <th>status</th>\n",
       "      <th>country_code</th>\n",
       "      <th>funding_round_permalink</th>\n",
       "      <th>funding_round_type</th>\n",
       "      <th>funded_at</th>\n",
       "      <th>raised_amount_usd</th>\n",
       "      <th>primary_sector</th>\n",
       "      <th>main_sector</th>\n",
       "      <th>count_per_sector</th>\n",
       "      <th>total_investment_per_sector</th>\n",
       "    </tr>\n",
       "  </thead>\n",
       "  <tbody>\n",
       "    <tr>\n",
       "      <th>0</th>\n",
       "      <td>/ORGANIZATION/365SCORES</td>\n",
       "      <td>365Scores</td>\n",
       "      <td>Android|Apps|iPhone|Mobile|Sports</td>\n",
       "      <td>operating</td>\n",
       "      <td>GBR</td>\n",
       "      <td>/funding-round/48212f931f542fdef78810bc87aef086</td>\n",
       "      <td>venture</td>\n",
       "      <td>29-09-2014</td>\n",
       "      <td>5500000.0</td>\n",
       "      <td>Android</td>\n",
       "      <td>Social, Finance, Analytics, Advertising</td>\n",
       "      <td>133</td>\n",
       "      <td>1.089404e+09</td>\n",
       "    </tr>\n",
       "    <tr>\n",
       "      <th>1</th>\n",
       "      <td>/ORGANIZATION/ACAL-ENTERPRISE-SOLUTIONS</td>\n",
       "      <td>Acal Enterprise Solutions</td>\n",
       "      <td>Information Technology</td>\n",
       "      <td>operating</td>\n",
       "      <td>GBR</td>\n",
       "      <td>/funding-round/0f9a693d9686330c5c2724215e0048e2</td>\n",
       "      <td>venture</td>\n",
       "      <td>03-06-2014</td>\n",
       "      <td>10720178.0</td>\n",
       "      <td>Information Technology</td>\n",
       "      <td>Social, Finance, Analytics, Advertising</td>\n",
       "      <td>133</td>\n",
       "      <td>1.089404e+09</td>\n",
       "    </tr>\n",
       "  </tbody>\n",
       "</table>\n",
       "</div>"
      ],
      "text/plain": [
       "                                 permalink                       name  \\\n",
       "0                  /ORGANIZATION/365SCORES                  365Scores   \n",
       "1  /ORGANIZATION/ACAL-ENTERPRISE-SOLUTIONS  Acal Enterprise Solutions   \n",
       "\n",
       "                     category_list_x     status country_code  \\\n",
       "0  Android|Apps|iPhone|Mobile|Sports  operating          GBR   \n",
       "1             Information Technology  operating          GBR   \n",
       "\n",
       "                           funding_round_permalink funding_round_type  \\\n",
       "0  /funding-round/48212f931f542fdef78810bc87aef086            venture   \n",
       "1  /funding-round/0f9a693d9686330c5c2724215e0048e2            venture   \n",
       "\n",
       "    funded_at  raised_amount_usd          primary_sector  \\\n",
       "0  29-09-2014          5500000.0                 Android   \n",
       "1  03-06-2014         10720178.0  Information Technology   \n",
       "\n",
       "                               main_sector  count_per_sector  \\\n",
       "0  Social, Finance, Analytics, Advertising               133   \n",
       "1  Social, Finance, Analytics, Advertising               133   \n",
       "\n",
       "   total_investment_per_sector  \n",
       "0                 1.089404e+09  \n",
       "1                 1.089404e+09  "
      ]
     },
     "execution_count": 60,
     "metadata": {},
     "output_type": "execute_result"
    }
   ],
   "source": [
    "#D2\n",
    "d2 = venture_comp_sector_mapped.loc[(venture_comp_sector_mapped['country_code']== country_2)&\n",
    "                                    (venture_comp_sector_mapped['raised_amount_usd'] <= 15000000)&\n",
    "                                   (venture_comp_sector_mapped['raised_amount_usd'] >= 5000000)]\n",
    "d2.head()\n",
    "#D2 count and sum per main_sector\n",
    "D2_count_main_sector = d2.groupby('main_sector')\n",
    "\n",
    "D2_count = pd.DataFrame(D2_count_main_sector['permalink'].count())\n",
    "D2_count.reset_index(inplace = True)\n",
    "D2_sum = pd.DataFrame(D2_count_main_sector['raised_amount_usd'].sum())\n",
    "D2_sum.reset_index(inplace = True)\n",
    "\n",
    "D2_add = pd.merge(D2_count, D2_sum, how = 'inner', on = 'main_sector')\n",
    "\n",
    "D2_add.columns=['main_sector','count_per_sector','total_investment_per_sector']\n",
    "\n",
    "D2 = pd.merge(d2, D2_add, how = 'inner', on = 'main_sector')\n",
    "D2.head(2)"
   ]
  },
  {
   "cell_type": "code",
   "execution_count": 61,
   "metadata": {},
   "outputs": [
    {
     "data": {
      "text/html": [
       "<div>\n",
       "<style>\n",
       "    .dataframe thead tr:only-child th {\n",
       "        text-align: right;\n",
       "    }\n",
       "\n",
       "    .dataframe thead th {\n",
       "        text-align: left;\n",
       "    }\n",
       "\n",
       "    .dataframe tbody tr th {\n",
       "        vertical-align: top;\n",
       "    }\n",
       "</style>\n",
       "<table border=\"1\" class=\"dataframe\">\n",
       "  <thead>\n",
       "    <tr style=\"text-align: right;\">\n",
       "      <th></th>\n",
       "      <th>permalink</th>\n",
       "      <th>name</th>\n",
       "      <th>category_list_x</th>\n",
       "      <th>status</th>\n",
       "      <th>country_code</th>\n",
       "      <th>funding_round_permalink</th>\n",
       "      <th>funding_round_type</th>\n",
       "      <th>funded_at</th>\n",
       "      <th>raised_amount_usd</th>\n",
       "      <th>primary_sector</th>\n",
       "      <th>main_sector</th>\n",
       "      <th>count_per_sector</th>\n",
       "      <th>total_investment_per_sector</th>\n",
       "    </tr>\n",
       "  </thead>\n",
       "  <tbody>\n",
       "    <tr>\n",
       "      <th>0</th>\n",
       "      <td>/ORGANIZATION/-FAME</td>\n",
       "      <td>#fame</td>\n",
       "      <td>Media</td>\n",
       "      <td>operating</td>\n",
       "      <td>IND</td>\n",
       "      <td>/funding-round/9a01d05418af9f794eebff7ace91f638</td>\n",
       "      <td>venture</td>\n",
       "      <td>05-01-2015</td>\n",
       "      <td>10000000.0</td>\n",
       "      <td>Media</td>\n",
       "      <td>Entertainment</td>\n",
       "      <td>33</td>\n",
       "      <td>280830000.0</td>\n",
       "    </tr>\n",
       "    <tr>\n",
       "      <th>1</th>\n",
       "      <td>/ORGANIZATION/ADLABS-IMAGICA</td>\n",
       "      <td>Adlabs Imagica</td>\n",
       "      <td>Entertainment|Tourism</td>\n",
       "      <td>operating</td>\n",
       "      <td>IND</td>\n",
       "      <td>/funding-round/508d3c83daaae9fda3ba6f9682c78f6c</td>\n",
       "      <td>venture</td>\n",
       "      <td>28-10-2014</td>\n",
       "      <td>8180000.0</td>\n",
       "      <td>Entertainment</td>\n",
       "      <td>Entertainment</td>\n",
       "      <td>33</td>\n",
       "      <td>280830000.0</td>\n",
       "    </tr>\n",
       "  </tbody>\n",
       "</table>\n",
       "</div>"
      ],
      "text/plain": [
       "                      permalink            name        category_list_x  \\\n",
       "0           /ORGANIZATION/-FAME           #fame                  Media   \n",
       "1  /ORGANIZATION/ADLABS-IMAGICA  Adlabs Imagica  Entertainment|Tourism   \n",
       "\n",
       "      status country_code                          funding_round_permalink  \\\n",
       "0  operating          IND  /funding-round/9a01d05418af9f794eebff7ace91f638   \n",
       "1  operating          IND  /funding-round/508d3c83daaae9fda3ba6f9682c78f6c   \n",
       "\n",
       "  funding_round_type   funded_at  raised_amount_usd primary_sector  \\\n",
       "0            venture  05-01-2015         10000000.0          Media   \n",
       "1            venture  28-10-2014          8180000.0  Entertainment   \n",
       "\n",
       "     main_sector  count_per_sector  total_investment_per_sector  \n",
       "0  Entertainment                33                  280830000.0  \n",
       "1  Entertainment                33                  280830000.0  "
      ]
     },
     "execution_count": 61,
     "metadata": {},
     "output_type": "execute_result"
    }
   ],
   "source": [
    "#D3\n",
    "d3 = venture_comp_sector_mapped.loc[(venture_comp_sector_mapped['country_code']== country_3)&\n",
    "                                    (venture_comp_sector_mapped['raised_amount_usd'] <= 15000000)&\n",
    "                                   (venture_comp_sector_mapped['raised_amount_usd'] >= 5000000)]\n",
    "d3.head()\n",
    "#D3 count and sum per main_sector\n",
    "D3_count_main_sector = d3.groupby('main_sector')\n",
    "\n",
    "D3_count = pd.DataFrame(D3_count_main_sector['permalink'].count())\n",
    "D3_count.reset_index(inplace = True)\n",
    "D3_sum = pd.DataFrame(D3_count_main_sector['raised_amount_usd'].sum())\n",
    "D3_sum.reset_index(inplace = True)\n",
    "\n",
    "D3_add = pd.merge(D3_count, D3_sum, how = 'inner', on = 'main_sector')\n",
    "\n",
    "D3_add.columns=['main_sector','count_per_sector','total_investment_per_sector']\n",
    "\n",
    "D3 = pd.merge(d3, D3_add, how = 'inner', on = 'main_sector')\n",
    "D3.head(2)"
   ]
  },
  {
   "cell_type": "code",
   "execution_count": 62,
   "metadata": {},
   "outputs": [
    {
     "data": {
      "text/html": [
       "<div>\n",
       "<style>\n",
       "    .dataframe thead tr:only-child th {\n",
       "        text-align: right;\n",
       "    }\n",
       "\n",
       "    .dataframe thead th {\n",
       "        text-align: left;\n",
       "    }\n",
       "\n",
       "    .dataframe tbody tr th {\n",
       "        vertical-align: top;\n",
       "    }\n",
       "</style>\n",
       "<table border=\"1\" class=\"dataframe\">\n",
       "  <thead>\n",
       "    <tr style=\"text-align: right;\">\n",
       "      <th></th>\n",
       "      <th>main_sector</th>\n",
       "      <th>count_per_sector</th>\n",
       "      <th>total_investment_per_sector</th>\n",
       "    </tr>\n",
       "  </thead>\n",
       "  <tbody>\n",
       "    <tr>\n",
       "      <th>0</th>\n",
       "      <td>Automotive &amp; Sports</td>\n",
       "      <td>167</td>\n",
       "      <td>1.454104e+09</td>\n",
       "    </tr>\n",
       "    <tr>\n",
       "      <th>1</th>\n",
       "      <td>Blanks</td>\n",
       "      <td>86</td>\n",
       "      <td>7.647633e+08</td>\n",
       "    </tr>\n",
       "    <tr>\n",
       "      <th>2</th>\n",
       "      <td>Cleantech / Semiconductors</td>\n",
       "      <td>2300</td>\n",
       "      <td>2.120663e+10</td>\n",
       "    </tr>\n",
       "    <tr>\n",
       "      <th>3</th>\n",
       "      <td>Entertainment</td>\n",
       "      <td>591</td>\n",
       "      <td>5.099198e+09</td>\n",
       "    </tr>\n",
       "    <tr>\n",
       "      <th>4</th>\n",
       "      <td>Health</td>\n",
       "      <td>909</td>\n",
       "      <td>8.211859e+09</td>\n",
       "    </tr>\n",
       "    <tr>\n",
       "      <th>5</th>\n",
       "      <td>Manufacturing</td>\n",
       "      <td>799</td>\n",
       "      <td>7.258553e+09</td>\n",
       "    </tr>\n",
       "    <tr>\n",
       "      <th>6</th>\n",
       "      <td>News, Search and Messaging</td>\n",
       "      <td>1582</td>\n",
       "      <td>1.395957e+10</td>\n",
       "    </tr>\n",
       "    <tr>\n",
       "      <th>7</th>\n",
       "      <td>Others</td>\n",
       "      <td>2950</td>\n",
       "      <td>2.632101e+10</td>\n",
       "    </tr>\n",
       "    <tr>\n",
       "      <th>8</th>\n",
       "      <td>Social, Finance, Analytics, Advertising</td>\n",
       "      <td>2714</td>\n",
       "      <td>2.380738e+10</td>\n",
       "    </tr>\n",
       "  </tbody>\n",
       "</table>\n",
       "</div>"
      ],
      "text/plain": [
       "                               main_sector  count_per_sector  \\\n",
       "0                      Automotive & Sports               167   \n",
       "1                                   Blanks                86   \n",
       "2               Cleantech / Semiconductors              2300   \n",
       "3                            Entertainment               591   \n",
       "4                                   Health               909   \n",
       "5                            Manufacturing               799   \n",
       "6               News, Search and Messaging              1582   \n",
       "7                                   Others              2950   \n",
       "8  Social, Finance, Analytics, Advertising              2714   \n",
       "\n",
       "   total_investment_per_sector  \n",
       "0                 1.454104e+09  \n",
       "1                 7.647633e+08  \n",
       "2                 2.120663e+10  \n",
       "3                 5.099198e+09  \n",
       "4                 8.211859e+09  \n",
       "5                 7.258553e+09  \n",
       "6                 1.395957e+10  \n",
       "7                 2.632101e+10  \n",
       "8                 2.380738e+10  "
      ]
     },
     "execution_count": 62,
     "metadata": {},
     "output_type": "execute_result"
    }
   ],
   "source": [
    "D1_add"
   ]
  },
  {
   "cell_type": "code",
   "execution_count": 63,
   "metadata": {},
   "outputs": [
    {
     "name": "stdout",
     "output_type": "stream",
     "text": [
      "Total number of investments in country1(C1):12098\n",
      "Total sum of investments in C1:108083057956.0\n"
     ]
    }
   ],
   "source": [
    "#Total number of investments in country1(C1)\n",
    "C1_investment_count = D1_add['count_per_sector'].sum()\n",
    "print(\"Total number of investments in country1(C1):\" + str(C1_investment_count))\n",
    "#Total sum of investments in country1(C1)\n",
    "C1_investment_sum = D1_add['total_investment_per_sector'].sum()\n",
    "print(\"Total sum of investments in C1:\" + str(C1_investment_sum))"
   ]
  },
  {
   "cell_type": "code",
   "execution_count": 64,
   "metadata": {},
   "outputs": [
    {
     "name": "stdout",
     "output_type": "stream",
     "text": [
      "/ORGANIZATION/VIRTUSTREAM\n"
     ]
    },
    {
     "data": {
      "text/html": [
       "<div>\n",
       "<style>\n",
       "    .dataframe thead tr:only-child th {\n",
       "        text-align: right;\n",
       "    }\n",
       "\n",
       "    .dataframe thead th {\n",
       "        text-align: left;\n",
       "    }\n",
       "\n",
       "    .dataframe tbody tr th {\n",
       "        vertical-align: top;\n",
       "    }\n",
       "</style>\n",
       "<table border=\"1\" class=\"dataframe\">\n",
       "  <thead>\n",
       "    <tr style=\"text-align: right;\">\n",
       "      <th></th>\n",
       "      <th>permalink</th>\n",
       "      <th>name</th>\n",
       "    </tr>\n",
       "  </thead>\n",
       "  <tbody>\n",
       "    <tr>\n",
       "      <th>7082</th>\n",
       "      <td>/ORGANIZATION/VIRTUSTREAM</td>\n",
       "      <td>Virtustream</td>\n",
       "    </tr>\n",
       "  </tbody>\n",
       "</table>\n",
       "</div>"
      ],
      "text/plain": [
       "                      permalink         name\n",
       "7082  /ORGANIZATION/VIRTUSTREAM  Virtustream"
      ]
     },
     "execution_count": 64,
     "metadata": {},
     "output_type": "execute_result"
    }
   ],
   "source": [
    "#checkpoint 5: row 9 col c1\n",
    "\n",
    "D1_main_sector = D1.loc[D1['main_sector']=='Others']\n",
    "D1_grp = pd.DataFrame((D1_main_sector.groupby(by='permalink'))['raised_amount_usd'].sum())\n",
    "top_company_link = (list((D1_grp.sort_values(by='raised_amount_usd', ascending = False).head(1)).index))\n",
    "print(str(top_company_link[0]))\n",
    "(D1.loc[D1.permalink == str(top_company_link[0]),['permalink','name']]).head(1)"
   ]
  },
  {
   "cell_type": "code",
   "execution_count": 65,
   "metadata": {},
   "outputs": [
    {
     "name": "stdout",
     "output_type": "stream",
     "text": [
      "/ORGANIZATION/SHOTSPOTTER\n"
     ]
    },
    {
     "data": {
      "text/html": [
       "<div>\n",
       "<style>\n",
       "    .dataframe thead tr:only-child th {\n",
       "        text-align: right;\n",
       "    }\n",
       "\n",
       "    .dataframe thead th {\n",
       "        text-align: left;\n",
       "    }\n",
       "\n",
       "    .dataframe tbody tr th {\n",
       "        vertical-align: top;\n",
       "    }\n",
       "</style>\n",
       "<table border=\"1\" class=\"dataframe\">\n",
       "  <thead>\n",
       "    <tr style=\"text-align: right;\">\n",
       "      <th></th>\n",
       "      <th>permalink</th>\n",
       "      <th>name</th>\n",
       "    </tr>\n",
       "  </thead>\n",
       "  <tbody>\n",
       "    <tr>\n",
       "      <th>2065</th>\n",
       "      <td>/ORGANIZATION/SHOTSPOTTER</td>\n",
       "      <td>SST Inc. (Formerly ShotSpotter)</td>\n",
       "    </tr>\n",
       "  </tbody>\n",
       "</table>\n",
       "</div>"
      ],
      "text/plain": [
       "                      permalink                             name\n",
       "2065  /ORGANIZATION/SHOTSPOTTER  SST Inc. (Formerly ShotSpotter)"
      ]
     },
     "execution_count": 65,
     "metadata": {},
     "output_type": "execute_result"
    }
   ],
   "source": [
    "#Checkpoint 5 > row 10 col c1\n",
    "D1_main_sector = D1.loc[D1['main_sector']=='Social, Finance, Analytics, Advertising']\n",
    "D1_grp = pd.DataFrame((D1_main_sector.groupby(by='permalink'))['raised_amount_usd'].sum())\n",
    "top_company_link = (list((D1_grp.sort_values(by='raised_amount_usd', ascending = False).head(1)).index))\n",
    "print(str(top_company_link[0]))\n",
    "(D1.loc[D1.permalink == str(top_company_link[0]),['permalink','name']]).head(1)"
   ]
  },
  {
   "cell_type": "code",
   "execution_count": 66,
   "metadata": {},
   "outputs": [
    {
     "data": {
      "text/html": [
       "<div>\n",
       "<style>\n",
       "    .dataframe thead tr:only-child th {\n",
       "        text-align: right;\n",
       "    }\n",
       "\n",
       "    .dataframe thead th {\n",
       "        text-align: left;\n",
       "    }\n",
       "\n",
       "    .dataframe tbody tr th {\n",
       "        vertical-align: top;\n",
       "    }\n",
       "</style>\n",
       "<table border=\"1\" class=\"dataframe\">\n",
       "  <thead>\n",
       "    <tr style=\"text-align: right;\">\n",
       "      <th></th>\n",
       "      <th>main_sector</th>\n",
       "      <th>count_per_sector</th>\n",
       "      <th>total_investment_per_sector</th>\n",
       "    </tr>\n",
       "  </thead>\n",
       "  <tbody>\n",
       "    <tr>\n",
       "      <th>0</th>\n",
       "      <td>Automotive &amp; Sports</td>\n",
       "      <td>16</td>\n",
       "      <td>1.670516e+08</td>\n",
       "    </tr>\n",
       "    <tr>\n",
       "      <th>1</th>\n",
       "      <td>Blanks</td>\n",
       "      <td>7</td>\n",
       "      <td>5.776485e+07</td>\n",
       "    </tr>\n",
       "    <tr>\n",
       "      <th>2</th>\n",
       "      <td>Cleantech / Semiconductors</td>\n",
       "      <td>128</td>\n",
       "      <td>1.150140e+09</td>\n",
       "    </tr>\n",
       "    <tr>\n",
       "      <th>3</th>\n",
       "      <td>Entertainment</td>\n",
       "      <td>56</td>\n",
       "      <td>4.827847e+08</td>\n",
       "    </tr>\n",
       "    <tr>\n",
       "      <th>4</th>\n",
       "      <td>Health</td>\n",
       "      <td>24</td>\n",
       "      <td>2.145375e+08</td>\n",
       "    </tr>\n",
       "    <tr>\n",
       "      <th>5</th>\n",
       "      <td>Manufacturing</td>\n",
       "      <td>42</td>\n",
       "      <td>3.619403e+08</td>\n",
       "    </tr>\n",
       "    <tr>\n",
       "      <th>6</th>\n",
       "      <td>News, Search and Messaging</td>\n",
       "      <td>73</td>\n",
       "      <td>6.157462e+08</td>\n",
       "    </tr>\n",
       "    <tr>\n",
       "      <th>7</th>\n",
       "      <td>Others</td>\n",
       "      <td>147</td>\n",
       "      <td>1.283624e+09</td>\n",
       "    </tr>\n",
       "    <tr>\n",
       "      <th>8</th>\n",
       "      <td>Social, Finance, Analytics, Advertising</td>\n",
       "      <td>133</td>\n",
       "      <td>1.089404e+09</td>\n",
       "    </tr>\n",
       "  </tbody>\n",
       "</table>\n",
       "</div>"
      ],
      "text/plain": [
       "                               main_sector  count_per_sector  \\\n",
       "0                      Automotive & Sports                16   \n",
       "1                                   Blanks                 7   \n",
       "2               Cleantech / Semiconductors               128   \n",
       "3                            Entertainment                56   \n",
       "4                                   Health                24   \n",
       "5                            Manufacturing                42   \n",
       "6               News, Search and Messaging                73   \n",
       "7                                   Others               147   \n",
       "8  Social, Finance, Analytics, Advertising               133   \n",
       "\n",
       "   total_investment_per_sector  \n",
       "0                 1.670516e+08  \n",
       "1                 5.776485e+07  \n",
       "2                 1.150140e+09  \n",
       "3                 4.827847e+08  \n",
       "4                 2.145375e+08  \n",
       "5                 3.619403e+08  \n",
       "6                 6.157462e+08  \n",
       "7                 1.283624e+09  \n",
       "8                 1.089404e+09  "
      ]
     },
     "execution_count": 66,
     "metadata": {},
     "output_type": "execute_result"
    }
   ],
   "source": [
    "D2_add"
   ]
  },
  {
   "cell_type": "code",
   "execution_count": 67,
   "metadata": {},
   "outputs": [
    {
     "name": "stdout",
     "output_type": "stream",
     "text": [
      "Total number of investments in country2(C2):626\n",
      "Total sum of investments in C2:5422993148.0\n"
     ]
    }
   ],
   "source": [
    "#Total number of investments in country2(C2)\n",
    "C2_investment_count = D2_add['count_per_sector'].sum()\n",
    "print(\"Total number of investments in country2(C2):\" + str(C2_investment_count))\n",
    "#Total sum of investments in country2(C2)\n",
    "C2_investment_sum = D2_add['total_investment_per_sector'].sum()\n",
    "print(\"Total sum of investments in C2:\" + str(C2_investment_sum))"
   ]
  },
  {
   "cell_type": "code",
   "execution_count": 68,
   "metadata": {},
   "outputs": [
    {
     "name": "stdout",
     "output_type": "stream",
     "text": [
      "/ORGANIZATION/CELLTICK-TECHNOLOGIES\n"
     ]
    },
    {
     "data": {
      "text/html": [
       "<div>\n",
       "<style>\n",
       "    .dataframe thead tr:only-child th {\n",
       "        text-align: right;\n",
       "    }\n",
       "\n",
       "    .dataframe thead th {\n",
       "        text-align: left;\n",
       "    }\n",
       "\n",
       "    .dataframe tbody tr th {\n",
       "        vertical-align: top;\n",
       "    }\n",
       "</style>\n",
       "<table border=\"1\" class=\"dataframe\">\n",
       "  <thead>\n",
       "    <tr style=\"text-align: right;\">\n",
       "      <th></th>\n",
       "      <th>permalink</th>\n",
       "      <th>name</th>\n",
       "    </tr>\n",
       "  </thead>\n",
       "  <tbody>\n",
       "    <tr>\n",
       "      <th>23</th>\n",
       "      <td>/ORGANIZATION/CELLTICK-TECHNOLOGIES</td>\n",
       "      <td>Celltick Technologies</td>\n",
       "    </tr>\n",
       "  </tbody>\n",
       "</table>\n",
       "</div>"
      ],
      "text/plain": [
       "                              permalink                   name\n",
       "23  /ORGANIZATION/CELLTICK-TECHNOLOGIES  Celltick Technologies"
      ]
     },
     "execution_count": 68,
     "metadata": {},
     "output_type": "execute_result"
    }
   ],
   "source": [
    "#Checkpoint 5 > row 10 col c2\n",
    "D2_main_sector = D2.loc[D2['main_sector']=='Social, Finance, Analytics, Advertising']\n",
    "D2_grp = pd.DataFrame((D2_main_sector.groupby(by='permalink'))['raised_amount_usd'].sum())\n",
    "top_company_link = (list((D2_grp.sort_values(by='raised_amount_usd', ascending = False).head(1)).index))\n",
    "print(str(top_company_link[0]))\n",
    "(D2.loc[D2.permalink == str(top_company_link[0]),['permalink','name']]).head(1)"
   ]
  },
  {
   "cell_type": "code",
   "execution_count": 69,
   "metadata": {},
   "outputs": [
    {
     "name": "stdout",
     "output_type": "stream",
     "text": [
      "/ORGANIZATION/ELECTRIC-CLOUD\n"
     ]
    },
    {
     "data": {
      "text/html": [
       "<div>\n",
       "<style>\n",
       "    .dataframe thead tr:only-child th {\n",
       "        text-align: right;\n",
       "    }\n",
       "\n",
       "    .dataframe thead th {\n",
       "        text-align: left;\n",
       "    }\n",
       "\n",
       "    .dataframe tbody tr th {\n",
       "        vertical-align: top;\n",
       "    }\n",
       "</style>\n",
       "<table border=\"1\" class=\"dataframe\">\n",
       "  <thead>\n",
       "    <tr style=\"text-align: right;\">\n",
       "      <th></th>\n",
       "      <th>permalink</th>\n",
       "      <th>name</th>\n",
       "    </tr>\n",
       "  </thead>\n",
       "  <tbody>\n",
       "    <tr>\n",
       "      <th>454</th>\n",
       "      <td>/ORGANIZATION/ELECTRIC-CLOUD</td>\n",
       "      <td>Electric Cloud</td>\n",
       "    </tr>\n",
       "  </tbody>\n",
       "</table>\n",
       "</div>"
      ],
      "text/plain": [
       "                        permalink            name\n",
       "454  /ORGANIZATION/ELECTRIC-CLOUD  Electric Cloud"
      ]
     },
     "execution_count": 69,
     "metadata": {},
     "output_type": "execute_result"
    }
   ],
   "source": [
    "#Checkpoint 5 > row 10 col c2\n",
    "D2_main_sector = D2.loc[D2['main_sector']=='Others']\n",
    "D2_grp = pd.DataFrame((D2_main_sector.groupby(by='permalink'))['raised_amount_usd'].sum())\n",
    "top_company_link = (list((D2_grp.sort_values(by='raised_amount_usd', ascending = False).head(1)).index))\n",
    "print(str(top_company_link[0]))\n",
    "(D2.loc[D2.permalink == str(top_company_link[0]),['permalink','name']]).head(1)"
   ]
  },
  {
   "cell_type": "code",
   "execution_count": 70,
   "metadata": {},
   "outputs": [
    {
     "data": {
      "text/html": [
       "<div>\n",
       "<style>\n",
       "    .dataframe thead tr:only-child th {\n",
       "        text-align: right;\n",
       "    }\n",
       "\n",
       "    .dataframe thead th {\n",
       "        text-align: left;\n",
       "    }\n",
       "\n",
       "    .dataframe tbody tr th {\n",
       "        vertical-align: top;\n",
       "    }\n",
       "</style>\n",
       "<table border=\"1\" class=\"dataframe\">\n",
       "  <thead>\n",
       "    <tr style=\"text-align: right;\">\n",
       "      <th></th>\n",
       "      <th>main_sector</th>\n",
       "      <th>count_per_sector</th>\n",
       "      <th>total_investment_per_sector</th>\n",
       "    </tr>\n",
       "  </thead>\n",
       "  <tbody>\n",
       "    <tr>\n",
       "      <th>7</th>\n",
       "      <td>Others</td>\n",
       "      <td>110</td>\n",
       "      <td>1.013410e+09</td>\n",
       "    </tr>\n",
       "    <tr>\n",
       "      <th>8</th>\n",
       "      <td>Social, Finance, Analytics, Advertising</td>\n",
       "      <td>60</td>\n",
       "      <td>5.505496e+08</td>\n",
       "    </tr>\n",
       "    <tr>\n",
       "      <th>6</th>\n",
       "      <td>News, Search and Messaging</td>\n",
       "      <td>52</td>\n",
       "      <td>4.338345e+08</td>\n",
       "    </tr>\n",
       "  </tbody>\n",
       "</table>\n",
       "</div>"
      ],
      "text/plain": [
       "                               main_sector  count_per_sector  \\\n",
       "7                                   Others               110   \n",
       "8  Social, Finance, Analytics, Advertising                60   \n",
       "6               News, Search and Messaging                52   \n",
       "\n",
       "   total_investment_per_sector  \n",
       "7                 1.013410e+09  \n",
       "8                 5.505496e+08  \n",
       "6                 4.338345e+08  "
      ]
     },
     "execution_count": 70,
     "metadata": {},
     "output_type": "execute_result"
    }
   ],
   "source": [
    "D3_add.sort_values(by='count_per_sector', ascending = False).head(3)"
   ]
  },
  {
   "cell_type": "code",
   "execution_count": 71,
   "metadata": {},
   "outputs": [
    {
     "name": "stdout",
     "output_type": "stream",
     "text": [
      "Total number of investments in country3(C3):330\n",
      "Total sum of investments in C3:2976543602.0\n"
     ]
    }
   ],
   "source": [
    "#Total number of investments in country3(C3)\n",
    "C3_investment_count = D3_add['count_per_sector'].sum()\n",
    "print(\"Total number of investments in country3(C3):\" + str(C3_investment_count))\n",
    "#Total sum of investments in country3(C3)\n",
    "C3_investment_sum = D3_add['total_investment_per_sector'].sum()\n",
    "print(\"Total sum of investments in C3:\" + str(C3_investment_sum))"
   ]
  },
  {
   "cell_type": "code",
   "execution_count": 72,
   "metadata": {},
   "outputs": [
    {
     "name": "stdout",
     "output_type": "stream",
     "text": [
      "/ORGANIZATION/FIRSTCRY-COM\n"
     ]
    },
    {
     "data": {
      "text/html": [
       "<div>\n",
       "<style>\n",
       "    .dataframe thead tr:only-child th {\n",
       "        text-align: right;\n",
       "    }\n",
       "\n",
       "    .dataframe thead th {\n",
       "        text-align: left;\n",
       "    }\n",
       "\n",
       "    .dataframe tbody tr th {\n",
       "        vertical-align: top;\n",
       "    }\n",
       "</style>\n",
       "<table border=\"1\" class=\"dataframe\">\n",
       "  <thead>\n",
       "    <tr style=\"text-align: right;\">\n",
       "      <th></th>\n",
       "      <th>permalink</th>\n",
       "      <th>name</th>\n",
       "    </tr>\n",
       "  </thead>\n",
       "  <tbody>\n",
       "    <tr>\n",
       "      <th>65</th>\n",
       "      <td>/ORGANIZATION/FIRSTCRY-COM</td>\n",
       "      <td>FirstCry.com</td>\n",
       "    </tr>\n",
       "  </tbody>\n",
       "</table>\n",
       "</div>"
      ],
      "text/plain": [
       "                     permalink          name\n",
       "65  /ORGANIZATION/FIRSTCRY-COM  FirstCry.com"
      ]
     },
     "execution_count": 72,
     "metadata": {},
     "output_type": "execute_result"
    }
   ],
   "source": [
    "#Checkpoint 5 > row 9 col c2\n",
    "D3_main_sector = D3.loc[D3['main_sector']=='Others']\n",
    "D3_grp = pd.DataFrame((D3_main_sector.groupby(by='permalink'))['raised_amount_usd'].sum())\n",
    "top_company_link = (list((D3_grp.sort_values(by='raised_amount_usd', ascending = False).head(1)).index))\n",
    "print(str(top_company_link[0]))\n",
    "(D3.loc[D3.permalink == str(top_company_link[0]),['permalink','name']]).head(1)"
   ]
  },
  {
   "cell_type": "code",
   "execution_count": 73,
   "metadata": {},
   "outputs": [
    {
     "name": "stdout",
     "output_type": "stream",
     "text": [
      "/ORGANIZATION/MANTHAN-SYSTEMS\n"
     ]
    },
    {
     "data": {
      "text/html": [
       "<div>\n",
       "<style>\n",
       "    .dataframe thead tr:only-child th {\n",
       "        text-align: right;\n",
       "    }\n",
       "\n",
       "    .dataframe thead th {\n",
       "        text-align: left;\n",
       "    }\n",
       "\n",
       "    .dataframe tbody tr th {\n",
       "        vertical-align: top;\n",
       "    }\n",
       "</style>\n",
       "<table border=\"1\" class=\"dataframe\">\n",
       "  <thead>\n",
       "    <tr style=\"text-align: right;\">\n",
       "      <th></th>\n",
       "      <th>permalink</th>\n",
       "      <th>name</th>\n",
       "    </tr>\n",
       "  </thead>\n",
       "  <tbody>\n",
       "    <tr>\n",
       "      <th>180</th>\n",
       "      <td>/ORGANIZATION/MANTHAN-SYSTEMS</td>\n",
       "      <td>Manthan Systems</td>\n",
       "    </tr>\n",
       "  </tbody>\n",
       "</table>\n",
       "</div>"
      ],
      "text/plain": [
       "                         permalink             name\n",
       "180  /ORGANIZATION/MANTHAN-SYSTEMS  Manthan Systems"
      ]
     },
     "execution_count": 73,
     "metadata": {},
     "output_type": "execute_result"
    }
   ],
   "source": [
    "#Checkpoint 5 > row 10 col c2\n",
    "D3_main_sector = D3.loc[D3['main_sector']=='Social, Finance, Analytics, Advertising']\n",
    "D3_grp = pd.DataFrame((D3_main_sector.groupby(by='permalink'))['raised_amount_usd'].sum())\n",
    "top_company_link = (list((D3_grp.sort_values(by='raised_amount_usd', ascending = False).head(1)).index))\n",
    "print(str(top_company_link[0]))\n",
    "(D3.loc[D3.permalink == str(top_company_link[0]),['permalink','name']]).head(1)"
   ]
  },
  {
   "cell_type": "code",
   "execution_count": 74,
   "metadata": {},
   "outputs": [
    {
     "data": {
      "text/html": [
       "<div>\n",
       "<style>\n",
       "    .dataframe thead tr:only-child th {\n",
       "        text-align: right;\n",
       "    }\n",
       "\n",
       "    .dataframe thead th {\n",
       "        text-align: left;\n",
       "    }\n",
       "\n",
       "    .dataframe tbody tr th {\n",
       "        vertical-align: top;\n",
       "    }\n",
       "</style>\n",
       "<table border=\"1\" class=\"dataframe\">\n",
       "  <thead>\n",
       "    <tr style=\"text-align: right;\">\n",
       "      <th></th>\n",
       "      <th>main_sector</th>\n",
       "      <th>count_per_sector</th>\n",
       "      <th>total_investment_per_sector</th>\n",
       "      <th>country_code</th>\n",
       "    </tr>\n",
       "  </thead>\n",
       "  <tbody>\n",
       "    <tr>\n",
       "      <th>7</th>\n",
       "      <td>Others</td>\n",
       "      <td>2950</td>\n",
       "      <td>2.632101e+10</td>\n",
       "      <td>USA</td>\n",
       "    </tr>\n",
       "    <tr>\n",
       "      <th>8</th>\n",
       "      <td>Social, Finance, Analytics, Advertising</td>\n",
       "      <td>2714</td>\n",
       "      <td>2.380738e+10</td>\n",
       "      <td>USA</td>\n",
       "    </tr>\n",
       "    <tr>\n",
       "      <th>2</th>\n",
       "      <td>Cleantech / Semiconductors</td>\n",
       "      <td>2300</td>\n",
       "      <td>2.120663e+10</td>\n",
       "      <td>USA</td>\n",
       "    </tr>\n",
       "  </tbody>\n",
       "</table>\n",
       "</div>"
      ],
      "text/plain": [
       "                               main_sector  count_per_sector  \\\n",
       "7                                   Others              2950   \n",
       "8  Social, Finance, Analytics, Advertising              2714   \n",
       "2               Cleantech / Semiconductors              2300   \n",
       "\n",
       "   total_investment_per_sector country_code  \n",
       "7                 2.632101e+10          USA  \n",
       "8                 2.380738e+10          USA  \n",
       "2                 2.120663e+10          USA  "
      ]
     },
     "execution_count": 74,
     "metadata": {},
     "output_type": "execute_result"
    }
   ],
   "source": [
    "#checkpoint 6: \n",
    "d1_top3 = D1_add.sort_values(by='count_per_sector', ascending=False).head(3)\n",
    "d1_top3['country_code'] = [country_1,country_1,country_1]\n",
    "d1_top3"
   ]
  },
  {
   "cell_type": "code",
   "execution_count": 75,
   "metadata": {},
   "outputs": [
    {
     "data": {
      "text/html": [
       "<div>\n",
       "<style>\n",
       "    .dataframe thead tr:only-child th {\n",
       "        text-align: right;\n",
       "    }\n",
       "\n",
       "    .dataframe thead th {\n",
       "        text-align: left;\n",
       "    }\n",
       "\n",
       "    .dataframe tbody tr th {\n",
       "        vertical-align: top;\n",
       "    }\n",
       "</style>\n",
       "<table border=\"1\" class=\"dataframe\">\n",
       "  <thead>\n",
       "    <tr style=\"text-align: right;\">\n",
       "      <th></th>\n",
       "      <th>main_sector</th>\n",
       "      <th>count_per_sector</th>\n",
       "      <th>total_investment_per_sector</th>\n",
       "      <th>country_code</th>\n",
       "    </tr>\n",
       "  </thead>\n",
       "  <tbody>\n",
       "    <tr>\n",
       "      <th>7</th>\n",
       "      <td>Others</td>\n",
       "      <td>147</td>\n",
       "      <td>1.283624e+09</td>\n",
       "      <td>GBR</td>\n",
       "    </tr>\n",
       "    <tr>\n",
       "      <th>8</th>\n",
       "      <td>Social, Finance, Analytics, Advertising</td>\n",
       "      <td>133</td>\n",
       "      <td>1.089404e+09</td>\n",
       "      <td>GBR</td>\n",
       "    </tr>\n",
       "    <tr>\n",
       "      <th>2</th>\n",
       "      <td>Cleantech / Semiconductors</td>\n",
       "      <td>128</td>\n",
       "      <td>1.150140e+09</td>\n",
       "      <td>GBR</td>\n",
       "    </tr>\n",
       "  </tbody>\n",
       "</table>\n",
       "</div>"
      ],
      "text/plain": [
       "                               main_sector  count_per_sector  \\\n",
       "7                                   Others               147   \n",
       "8  Social, Finance, Analytics, Advertising               133   \n",
       "2               Cleantech / Semiconductors               128   \n",
       "\n",
       "   total_investment_per_sector country_code  \n",
       "7                 1.283624e+09          GBR  \n",
       "8                 1.089404e+09          GBR  \n",
       "2                 1.150140e+09          GBR  "
      ]
     },
     "execution_count": 75,
     "metadata": {},
     "output_type": "execute_result"
    }
   ],
   "source": [
    "d2_top3 = D2_add.sort_values(by='count_per_sector', ascending=False).head(3)\n",
    "d2_top3['country_code'] = [country_2,country_2,country_2]\n",
    "d2_top3"
   ]
  },
  {
   "cell_type": "code",
   "execution_count": 76,
   "metadata": {},
   "outputs": [
    {
     "data": {
      "text/html": [
       "<div>\n",
       "<style>\n",
       "    .dataframe thead tr:only-child th {\n",
       "        text-align: right;\n",
       "    }\n",
       "\n",
       "    .dataframe thead th {\n",
       "        text-align: left;\n",
       "    }\n",
       "\n",
       "    .dataframe tbody tr th {\n",
       "        vertical-align: top;\n",
       "    }\n",
       "</style>\n",
       "<table border=\"1\" class=\"dataframe\">\n",
       "  <thead>\n",
       "    <tr style=\"text-align: right;\">\n",
       "      <th></th>\n",
       "      <th>main_sector</th>\n",
       "      <th>count_per_sector</th>\n",
       "      <th>total_investment_per_sector</th>\n",
       "      <th>country_code</th>\n",
       "    </tr>\n",
       "  </thead>\n",
       "  <tbody>\n",
       "    <tr>\n",
       "      <th>7</th>\n",
       "      <td>Others</td>\n",
       "      <td>110</td>\n",
       "      <td>1.013410e+09</td>\n",
       "      <td>IND</td>\n",
       "    </tr>\n",
       "    <tr>\n",
       "      <th>8</th>\n",
       "      <td>Social, Finance, Analytics, Advertising</td>\n",
       "      <td>60</td>\n",
       "      <td>5.505496e+08</td>\n",
       "      <td>IND</td>\n",
       "    </tr>\n",
       "    <tr>\n",
       "      <th>6</th>\n",
       "      <td>News, Search and Messaging</td>\n",
       "      <td>52</td>\n",
       "      <td>4.338345e+08</td>\n",
       "      <td>IND</td>\n",
       "    </tr>\n",
       "  </tbody>\n",
       "</table>\n",
       "</div>"
      ],
      "text/plain": [
       "                               main_sector  count_per_sector  \\\n",
       "7                                   Others               110   \n",
       "8  Social, Finance, Analytics, Advertising                60   \n",
       "6               News, Search and Messaging                52   \n",
       "\n",
       "   total_investment_per_sector country_code  \n",
       "7                 1.013410e+09          IND  \n",
       "8                 5.505496e+08          IND  \n",
       "6                 4.338345e+08          IND  "
      ]
     },
     "execution_count": 76,
     "metadata": {},
     "output_type": "execute_result"
    }
   ],
   "source": [
    "d3_top3 = D3_add.sort_values(by='count_per_sector', ascending=False).head(3)\n",
    "d3_top3['country_code'] = [country_3,country_3,country_3]\n",
    "d3_top3"
   ]
  },
  {
   "cell_type": "code",
   "execution_count": 77,
   "metadata": {},
   "outputs": [
    {
     "data": {
      "text/html": [
       "<div>\n",
       "<style>\n",
       "    .dataframe thead tr:only-child th {\n",
       "        text-align: right;\n",
       "    }\n",
       "\n",
       "    .dataframe thead th {\n",
       "        text-align: left;\n",
       "    }\n",
       "\n",
       "    .dataframe tbody tr th {\n",
       "        vertical-align: top;\n",
       "    }\n",
       "</style>\n",
       "<table border=\"1\" class=\"dataframe\">\n",
       "  <thead>\n",
       "    <tr style=\"text-align: right;\">\n",
       "      <th></th>\n",
       "      <th>main_sector</th>\n",
       "      <th>count_per_sector</th>\n",
       "      <th>total_investment_per_sector</th>\n",
       "      <th>country_code</th>\n",
       "    </tr>\n",
       "  </thead>\n",
       "  <tbody>\n",
       "    <tr>\n",
       "      <th>7</th>\n",
       "      <td>Others</td>\n",
       "      <td>2950</td>\n",
       "      <td>2.632101e+10</td>\n",
       "      <td>USA</td>\n",
       "    </tr>\n",
       "    <tr>\n",
       "      <th>8</th>\n",
       "      <td>Social, Finance, Analytics, Advertising</td>\n",
       "      <td>2714</td>\n",
       "      <td>2.380738e+10</td>\n",
       "      <td>USA</td>\n",
       "    </tr>\n",
       "    <tr>\n",
       "      <th>2</th>\n",
       "      <td>Cleantech / Semiconductors</td>\n",
       "      <td>2300</td>\n",
       "      <td>2.120663e+10</td>\n",
       "      <td>USA</td>\n",
       "    </tr>\n",
       "    <tr>\n",
       "      <th>7</th>\n",
       "      <td>Others</td>\n",
       "      <td>147</td>\n",
       "      <td>1.283624e+09</td>\n",
       "      <td>GBR</td>\n",
       "    </tr>\n",
       "    <tr>\n",
       "      <th>8</th>\n",
       "      <td>Social, Finance, Analytics, Advertising</td>\n",
       "      <td>133</td>\n",
       "      <td>1.089404e+09</td>\n",
       "      <td>GBR</td>\n",
       "    </tr>\n",
       "    <tr>\n",
       "      <th>2</th>\n",
       "      <td>Cleantech / Semiconductors</td>\n",
       "      <td>128</td>\n",
       "      <td>1.150140e+09</td>\n",
       "      <td>GBR</td>\n",
       "    </tr>\n",
       "    <tr>\n",
       "      <th>7</th>\n",
       "      <td>Others</td>\n",
       "      <td>110</td>\n",
       "      <td>1.013410e+09</td>\n",
       "      <td>IND</td>\n",
       "    </tr>\n",
       "    <tr>\n",
       "      <th>8</th>\n",
       "      <td>Social, Finance, Analytics, Advertising</td>\n",
       "      <td>60</td>\n",
       "      <td>5.505496e+08</td>\n",
       "      <td>IND</td>\n",
       "    </tr>\n",
       "    <tr>\n",
       "      <th>6</th>\n",
       "      <td>News, Search and Messaging</td>\n",
       "      <td>52</td>\n",
       "      <td>4.338345e+08</td>\n",
       "      <td>IND</td>\n",
       "    </tr>\n",
       "  </tbody>\n",
       "</table>\n",
       "</div>"
      ],
      "text/plain": [
       "                               main_sector  count_per_sector  \\\n",
       "7                                   Others              2950   \n",
       "8  Social, Finance, Analytics, Advertising              2714   \n",
       "2               Cleantech / Semiconductors              2300   \n",
       "7                                   Others               147   \n",
       "8  Social, Finance, Analytics, Advertising               133   \n",
       "2               Cleantech / Semiconductors               128   \n",
       "7                                   Others               110   \n",
       "8  Social, Finance, Analytics, Advertising                60   \n",
       "6               News, Search and Messaging                52   \n",
       "\n",
       "   total_investment_per_sector country_code  \n",
       "7                 2.632101e+10          USA  \n",
       "8                 2.380738e+10          USA  \n",
       "2                 2.120663e+10          USA  \n",
       "7                 1.283624e+09          GBR  \n",
       "8                 1.089404e+09          GBR  \n",
       "2                 1.150140e+09          GBR  \n",
       "7                 1.013410e+09          IND  \n",
       "8                 5.505496e+08          IND  \n",
       "6                 4.338345e+08          IND  "
      ]
     },
     "execution_count": 77,
     "metadata": {},
     "output_type": "execute_result"
    }
   ],
   "source": [
    "plot_top3 = pd.concat([d1_top3, d2_top3,d3_top3], axis=0)\n",
    "plot_top3"
   ]
  },
  {
   "cell_type": "code",
   "execution_count": 78,
   "metadata": {
    "collapsed": true
   },
   "outputs": [],
   "source": [
    "import matplotlib.pyplot as plt\n",
    "import seaborn as sns\n"
   ]
  },
  {
   "cell_type": "code",
   "execution_count": 79,
   "metadata": {},
   "outputs": [
    {
     "data": {
      "image/png": "[encoded data removed]",
      "text/plain": [
       "<matplotlib.figure.Figure at 0x24d5575c630>"
      ]
     },
     "metadata": {},
     "output_type": "display_data"
    }
   ],
   "source": [
    "# increase figure size \n",
    "plt.figure(figsize=(12, 6))\n",
    "\n",
    "# subplot 1: statistic=mean\n",
    "plt.subplot(1, 3, 1)\n",
    "sns.barplot(x='funding_round_type', y='raised_amount_usd', data=fund_type)\n",
    "plt.title(\"Average amount raised\")\n",
    "\n",
    "# subplot 2: statistic=median\n",
    "plt.subplot(1, 3, 2)\n",
    "sns.barplot(x='funding_round_type', y='raised_amount_usd', data=fund_type, estimator=np.median)\n",
    "plt.title(\"Median amount raised\")\n",
    "\n",
    "# subplot 3: statistic=count\n",
    "plt.subplot(1, 3, 3)\n",
    "sns.countplot(x='funding_round_type', data=fund_type)\n",
    "plt.title(\"count of fundings\")\n",
    "\n",
    "plt.show()"
   ]
  },
  {
   "cell_type": "code",
   "execution_count": 83,
   "metadata": {},
   "outputs": [
    {
     "data": {
      "image/png": "[encoded data removed]",
      "text/plain": [
       "<matplotlib.figure.Figure at 0x24d517c0e10>"
      ]
     },
     "metadata": {},
     "output_type": "display_data"
    }
   ],
   "source": [
    "#checkpoint 6\n",
    "sns.barplot(x='funding_round_type', y='raised_amount_usd', data=fund_type)\n",
    "plt.title(\"Average amount raised\")\n",
    "plt.show()"
   ]
  },
  {
   "cell_type": "code",
   "execution_count": 80,
   "metadata": {},
   "outputs": [
    {
     "data": {
      "image/png": "[encoded data removed]",
      "text/plain": [
       "<matplotlib.figure.Figure at 0x24d5574a128>"
      ]
     },
     "metadata": {},
     "output_type": "display_data"
    }
   ],
   "source": [
    "#checkpoint 6\n",
    "sns.barplot(x='country_code', y = 'raised_amount_usd', data = top9)\n",
    "plt.show()"
   ]
  },
  {
   "cell_type": "code",
   "execution_count": 81,
   "metadata": {},
   "outputs": [
    {
     "data": {
      "image/png": "[encoded data removed]",
      "text/plain": [
       "<matplotlib.figure.Figure at 0x24d4f6a4f60>"
      ]
     },
     "metadata": {},
     "output_type": "display_data"
    }
   ],
   "source": [
    "#plot for top3 english speaking countries\n",
    "sns.barplot(x='country_code',y ='count_per_sector',hue='main_sector', data=plot_top3)\n",
    "plt.show() # Checkpoint 6"
   ]
  }
 ],
 "metadata": {
  "kernelspec": {
   "display_name": "Python 3",
   "language": "python",
   "name": "python3"
  },
  "language_info": {
   "codemirror_mode": {
    "name": "ipython",
    "version": 3
   },
   "file_extension": ".py",
   "mimetype": "text/x-python",
   "name": "python",
   "nbconvert_exporter": "python",
   "pygments_lexer": "ipython3",
   "version": "3.6.5"
  }
 },
 "nbformat": 4,
 "nbformat_minor": 2
}
